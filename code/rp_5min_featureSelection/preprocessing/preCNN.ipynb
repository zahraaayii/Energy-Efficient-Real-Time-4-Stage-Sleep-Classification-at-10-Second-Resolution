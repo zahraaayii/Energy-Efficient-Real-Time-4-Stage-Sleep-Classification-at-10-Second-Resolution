{
 "cells": [
  {
   "cell_type": "code",
   "execution_count": 1,
   "metadata": {
    "colab": {
     "base_uri": "https://localhost:8080/"
    },
    "id": "_nA1zU7rKDyQ",
    "outputId": "0b63568a-a4b2-4a21-8e80-bc320dd2b3c3"
   },
   "outputs": [],
   "source": [
    "# from google.colab import drive\n",
    "# drive.mount('/content/drive')\n",
    "# base_dir='/content/drive/MyDrive/ucd/'\n",
    "base_dir='../../../folders/'"
   ]
  },
  {
   "cell_type": "code",
   "execution_count": 2,
   "metadata": {
    "id": "yoJAcijUKDyS"
   },
   "outputs": [
    {
     "name": "stderr",
     "output_type": "stream",
     "text": [
      "2025-03-06 22:38:51.102793: I tensorflow/core/util/port.cc:113] oneDNN custom operations are on. You may see slightly different numerical results due to floating-point round-off errors from different computation orders. To turn them off, set the environment variable `TF_ENABLE_ONEDNN_OPTS=0`.\n",
      "2025-03-06 22:38:51.136553: E external/local_xla/xla/stream_executor/cuda/cuda_dnn.cc:9261] Unable to register cuDNN factory: Attempting to register factory for plugin cuDNN when one has already been registered\n",
      "2025-03-06 22:38:51.136577: E external/local_xla/xla/stream_executor/cuda/cuda_fft.cc:607] Unable to register cuFFT factory: Attempting to register factory for plugin cuFFT when one has already been registered\n",
      "2025-03-06 22:38:51.137367: E external/local_xla/xla/stream_executor/cuda/cuda_blas.cc:1515] Unable to register cuBLAS factory: Attempting to register factory for plugin cuBLAS when one has already been registered\n",
      "2025-03-06 22:38:51.142346: I tensorflow/core/platform/cpu_feature_guard.cc:182] This TensorFlow binary is optimized to use available CPU instructions in performance-critical operations.\n",
      "To enable the following instructions: AVX2 AVX_VNNI FMA, in other operations, rebuild TensorFlow with the appropriate compiler flags.\n",
      "2025-03-06 22:38:51.840185: W tensorflow/compiler/tf2tensorrt/utils/py_utils.cc:38] TF-TRT Warning: Could not find TensorRT\n"
     ]
    }
   ],
   "source": [
    "import pandas as pd\n",
    "import numpy as np\n",
    "import pickle\n",
    "import tensorflow as tf\n",
    "from sklearn.metrics import classification_report,accuracy_score\n",
    "from sklearn.model_selection import train_test_split\n",
    "from keras.models import Sequential,load_model,load_model\n",
    "from keras.layers import Conv1D, Conv2D,MaxPooling1D,MaxPooling2D, Dropout,Dense,Flatten,Activation, Flatten, BatchNormalization\n",
    "from tensorflow.keras.optimizers import Adam\n",
    "from tensorflow.keras.regularizers import l2\n",
    "import scipy.stats as stats\n",
    "from keras.callbacks import ModelCheckpoint,EarlyStopping\n",
    "from sklearn.preprocessing import LabelEncoder\n",
    "from tensorflow.keras.utils import to_categorical\n",
    "from sklearn.metrics import confusion_matrix, ConfusionMatrixDisplay\n",
    "from sklearn.utils import shuffle\n",
    "import matplotlib.pyplot as plt\n",
    "from collections import Counter\n",
    "from sklearn.preprocessing import LabelEncoder\n",
    "# from imblearn.over_sampling import SMOTE\n",
    "import warnings\n",
    "warnings.filterwarnings(\"ignore\")"
   ]
  },
  {
   "cell_type": "code",
   "execution_count": 3,
   "metadata": {
    "id": "AFV2qALCKDyT"
   },
   "outputs": [
    {
     "name": "stdout",
     "output_type": "stream",
     "text": [
      "['ucddb002', 'ucddb003', 'ucddb005', 'ucddb006', 'ucddb007', 'ucddb008', 'ucddb009', 'ucddb010', 'ucddb011', 'ucddb012', 'ucddb013', 'ucddb014', 'ucddb015', 'ucddb017', 'ucddb018', 'ucddb019', 'ucddb020', 'ucddb021', 'ucddb022', 'ucddb023', 'ucddb024', 'ucddb025', 'ucddb026', 'ucddb027', 'ucddb028']\n",
      "ucddb003\n",
      "ucddb005\n",
      "ucddb006\n",
      "ucddb007\n",
      "ucddb008\n",
      "ucddb009\n",
      "ucddb010\n",
      "ucddb011\n",
      "ucddb012\n",
      "ucddb013\n",
      "ucddb014\n",
      "ucddb015\n",
      "ucddb017\n",
      "ucddb018\n",
      "ucddb019\n",
      "ucddb020\n",
      "ucddb021\n",
      "ucddb022\n",
      "ucddb023\n",
      "ucddb024\n",
      "ucddb025\n",
      "ucddb026\n",
      "ucddb027\n",
      "ucddb028\n",
      "(62247,)\n",
      "(62247, 3840)\n"
     ]
    }
   ],
   "source": [
    "data_base=[f'ucddb{i:003d}' for i in range(2, 29)]\n",
    "data_base.remove('ucddb004')\n",
    "data_base.remove('ucddb016')\n",
    "print(data_base)\n",
    "\n",
    "with open(base_dir+'tenSecond/ucddb002_win.pkl', 'rb') as f:\n",
    "        res = pickle.load(f)\n",
    "        stages = res['stages']\n",
    "        ecg = np.array(res['ecg_win'])           \n",
    "data_base.remove('ucddb002')    \n",
    "  \n",
    "for file in data_base:\n",
    "        print(file)\n",
    "        with open(base_dir+f'tenSecond/{file}_win.pkl', 'rb') as f:\n",
    "                res = pickle.load(f)\n",
    "                stages_file = res['stages']\n",
    "                ecg_file = np.array(res['ecg_win'])     \n",
    "        stages =np.concatenate((stages , stages_file),axis=0) \n",
    "        ecg =np.concatenate((ecg , ecg_file),axis=0) \n",
    "        del stages_file\n",
    "        del ecg_file\n",
    "print(stages.shape)\n",
    "print(ecg.shape) "
   ]
  },
  {
   "cell_type": "code",
   "execution_count": 4,
   "metadata": {
    "id": "z0OPNejEKDyV"
   },
   "outputs": [],
   "source": [
    "res = {'ecg':ecg, 'stages':stages}\n",
    "with open(base_dir+'all/all.pkl', 'wb') as f:\n",
    "    pickle.dump(res, f)\n",
    "del res \n",
    "del ecg\n",
    "del stages"
   ]
  },
  {
   "cell_type": "code",
   "execution_count": 5,
   "metadata": {
    "id": "7tvTMcv9KDyV"
   },
   "outputs": [],
   "source": [
    "with open(base_dir+'all/all.pkl', 'rb') as f:\n",
    "        res = pickle.load(f)\n",
    "        stages = np.array(res['stages'])\n",
    "        ecg = np.array(res['ecg'])\n",
    "del res      "
   ]
  },
  {
   "cell_type": "code",
   "execution_count": 6,
   "metadata": {
    "colab": {
     "base_uri": "https://localhost:8080/"
    },
    "id": "2E_0ioV2KDyW",
    "outputId": "507a46e1-97f2-4a81-bf2d-5dd417bf8659"
   },
   "outputs": [
    {
     "name": "stdout",
     "output_type": "stream",
     "text": [
      "(62247,)\n"
     ]
    }
   ],
   "source": [
    "print(stages.shape)"
   ]
  },
  {
   "cell_type": "code",
   "execution_count": 7,
   "metadata": {
    "colab": {
     "base_uri": "https://localhost:8080/",
     "height": 499
    },
    "id": "l6QPePHtKDyW",
    "outputId": "8669c68d-7937-4c3c-d5d1-ec6b18befbb0"
   },
   "outputs": [
    {
     "name": "stdout",
     "output_type": "stream",
     "text": [
      "Class=0, n=14049 (22.570%)\n",
      "Class=2, n=31164 (50.065%)\n",
      "Class=3, n=7989 (12.834%)\n",
      "Class=1, n=9045 (14.531%)\n"
     ]
    },
    {
     "data": {
      "image/png": "[encoded data removed]",
      "text/plain": [
       "<Figure size 640x480 with 1 Axes>"
      ]
     },
     "metadata": {},
     "output_type": "display_data"
    }
   ],
   "source": [
    "y=stages\n",
    "y = LabelEncoder().fit_transform(y)\n",
    "# summarize distribution\n",
    "counter = Counter(y)\n",
    "for k,v in counter.items():\n",
    " per = v / len(y) * 100\n",
    " print('Class=%d, n=%d (%.3f%%)' % (k, v, per))\n",
    "# plot the distribution\n",
    "plt.bar(counter.keys(), counter.values())\n",
    "plt.show()"
   ]
  },
  {
   "cell_type": "code",
   "execution_count": 8,
   "metadata": {
    "colab": {
     "base_uri": "https://localhost:8080/"
    },
    "id": "cgsYtgjLKDyX",
    "outputId": "2ba4c87c-cbdb-42f7-aa91-c754ba1804d3"
   },
   "outputs": [
    {
     "name": "stdout",
     "output_type": "stream",
     "text": [
      "(62247, 3841)\n"
     ]
    }
   ],
   "source": [
    "stages=np.reshape(stages,(len(stages),1))\n",
    "all_data=np.hstack((ecg,stages))\n",
    "del stages\n",
    "del ecg\n",
    "print(all_data.shape)"
   ]
  },
  {
   "cell_type": "code",
   "execution_count": 9,
   "metadata": {
    "id": "-Y4YJwOhKDyY"
   },
   "outputs": [],
   "source": [
    "all_data=shuffle(all_data) "
   ]
  },
  {
   "cell_type": "code",
   "execution_count": 10,
   "metadata": {
    "colab": {
     "base_uri": "https://localhost:8080/",
     "height": 499
    },
    "id": "sN25Db0rKDyZ",
    "outputId": "5aba5e36-ff60-4bfa-c036-115c6b7d034a"
   },
   "outputs": [
    {
     "name": "stdout",
     "output_type": "stream",
     "text": [
      "Class=0, n=14049 (22.570%)\n",
      "Class=1, n=9045 (14.531%)\n",
      "Class=3, n=7989 (12.834%)\n",
      "Class=2, n=31164 (50.065%)\n"
     ]
    },
    {
     "data": {
      "image/png": "[encoded data removed]",
      "text/plain": [
       "<Figure size 640x480 with 1 Axes>"
      ]
     },
     "metadata": {},
     "output_type": "display_data"
    }
   ],
   "source": [
    "y=all_data[:,3840:3841]\n",
    "y = LabelEncoder().fit_transform(y)\n",
    "x=all_data[:,:3840]\n",
    "# summarize distribution\n",
    "counter = Counter(y)\n",
    "for k,v in counter.items():\n",
    " per = v / len(y) * 100\n",
    " print('Class=%d, n=%d (%.3f%%)' % (k, v, per))\n",
    "# plot the distribution\n",
    "plt.bar(counter.keys(), counter.values())\n",
    "plt.show()"
   ]
  },
  {
   "cell_type": "code",
   "execution_count": 11,
   "metadata": {
    "id": "G3TYbf-HKDyZ"
   },
   "outputs": [],
   "source": [
    "x_train, x_test, y_train, y_test= train_test_split(x,y, test_size=0.2,stratify=y,random_state=1234)\n",
    "del all_data"
   ]
  },
  {
   "cell_type": "code",
   "execution_count": 12,
   "metadata": {
    "colab": {
     "base_uri": "https://localhost:8080/"
    },
    "id": "Hgpnw3CUKDya",
    "outputId": "25144b78-f2c8-492a-8bee-7c5039c260a0"
   },
   "outputs": [
    {
     "name": "stdout",
     "output_type": "stream",
     "text": [
      "              precision    recall  f1-score   support\n",
      "\n",
      "           0       1.00      1.00      1.00      2810\n",
      "           1       1.00      1.00      1.00      1809\n",
      "           2       1.00      1.00      1.00      6233\n",
      "           3       1.00      1.00      1.00      1598\n",
      "\n",
      "    accuracy                           1.00     12450\n",
      "   macro avg       1.00      1.00      1.00     12450\n",
      "weighted avg       1.00      1.00      1.00     12450\n",
      "\n"
     ]
    }
   ],
   "source": [
    "t1=y_test\n",
    "print(classification_report(t1,t1))\n",
    "del t1"
   ]
  },
  {
   "cell_type": "code",
   "execution_count": 13,
   "metadata": {
    "colab": {
     "base_uri": "https://localhost:8080/"
    },
    "id": "P2zebjqiKDya",
    "outputId": "7b3784d1-5b81-49e0-b209-fa73deee792a"
   },
   "outputs": [
    {
     "name": "stdout",
     "output_type": "stream",
     "text": [
      "(12450, 3840)\n",
      "(12450,)\n",
      "(12450,)\n"
     ]
    }
   ],
   "source": [
    "print(x_test.shape)\n",
    "print(y_test.shape)\n",
    "y_test=y_test.astype(int)\n",
    "y_test=y_test.flatten()\n",
    "print(y_test.shape)\n",
    "encoder = LabelEncoder()\n",
    "y_test=encoder.fit_transform(y_test)\n",
    "y_test = encoder.transform(y_test)\n",
    "y_test=to_categorical(y_test).astype(int)\n",
    "result = {'x_test':x_test, 'y_test':y_test}\n",
    "del x_test\n",
    "del y_test\n",
    "with open(base_dir+'all/test_all.pkl', 'wb') as f:\n",
    "    pickle.dump(result, f)\n",
    "del result  "
   ]
  },
  {
   "cell_type": "code",
   "execution_count": 14,
   "metadata": {
    "colab": {
     "base_uri": "https://localhost:8080/"
    },
    "id": "Xm5zYiioKDya",
    "outputId": "7117c4f7-3824-4638-830f-4b17962c35b2"
   },
   "outputs": [
    {
     "name": "stdout",
     "output_type": "stream",
     "text": [
      "              precision    recall  f1-score   support\n",
      "\n",
      "           0       1.00      1.00      1.00     11239\n",
      "           1       1.00      1.00      1.00      7236\n",
      "           2       1.00      1.00      1.00     24931\n",
      "           3       1.00      1.00      1.00      6391\n",
      "\n",
      "    accuracy                           1.00     49797\n",
      "   macro avg       1.00      1.00      1.00     49797\n",
      "weighted avg       1.00      1.00      1.00     49797\n",
      "\n"
     ]
    }
   ],
   "source": [
    "t1=y_train\n",
    "print(classification_report(t1,t1))\n",
    "del t1"
   ]
  },
  {
   "cell_type": "code",
   "execution_count": 15,
   "metadata": {
    "colab": {
     "base_uri": "https://localhost:8080/"
    },
    "id": "MErfpKqsKDya",
    "outputId": "1cf4d459-eded-46ae-9c3a-0a7aa24e49f8"
   },
   "outputs": [
    {
     "name": "stdout",
     "output_type": "stream",
     "text": [
      "(49797, 3840)\n",
      "(49797,)\n",
      "(49797,)\n"
     ]
    }
   ],
   "source": [
    "print(x_train.shape)\n",
    "print(y_train.shape)\n",
    "y_train=y_train.astype(int)\n",
    "y_train=y_train.flatten()\n",
    "print(y_train.shape)\n",
    "encoder = LabelEncoder()\n",
    "y_train=encoder.fit_transform(y_train)\n",
    "y_train = encoder.transform(y_train)\n",
    "y_train=to_categorical(y_train).astype(int)\n",
    "result = {'x_train':x_train, 'y_train':y_train}\n",
    "del x_train\n",
    "del y_train\n",
    "with open(base_dir+'all/train_all.pkl', 'wb') as f:\n",
    "    pickle.dump(result, f)\n",
    "del result "
   ]
  }
 ],
 "metadata": {
  "colab": {
   "machine_shape": "hm",
   "provenance": []
  },
  "gpuClass": "standard",
  "kernelspec": {
   "display_name": "base",
   "language": "python",
   "name": "python3"
  },
  "language_info": {
   "codemirror_mode": {
    "name": "ipython",
    "version": 3
   },
   "file_extension": ".py",
   "mimetype": "text/x-python",
   "name": "python",
   "nbconvert_exporter": "python",
   "pygments_lexer": "ipython3",
   "version": "3.11.5"
  },
  "orig_nbformat": 4
 },
 "nbformat": 4,
 "nbformat_minor": 0
}
