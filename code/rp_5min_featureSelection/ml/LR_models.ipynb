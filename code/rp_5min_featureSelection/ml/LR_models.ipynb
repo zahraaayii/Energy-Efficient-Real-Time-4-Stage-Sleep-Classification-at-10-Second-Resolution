{
 "cells": [
  {
   "cell_type": "code",
   "execution_count": 1,
   "metadata": {
    "colab": {
     "base_uri": "https://localhost:8080/"
    },
    "id": "R76a0E12YaBO",
    "outputId": "35096a5c-c593-4233-d40f-8d8c05b8e1d3"
   },
   "outputs": [],
   "source": [
    "# !pip install scikit-optimize\n",
    "# from google.colab import drive\n",
    "# drive.mount('/content/drive')\n",
    "# base_dir='/content/drive/MyDrive/ucd/'\n",
    "base_dir='../../../folders/'"
   ]
  },
  {
   "cell_type": "code",
   "execution_count": 2,
   "metadata": {
    "id": "CTnnrsLxYaBR"
   },
   "outputs": [
    {
     "name": "stderr",
     "output_type": "stream",
     "text": [
      "Intel(R) Extension for Scikit-learn* enabled (https://github.com/uxlfoundation/scikit-learn-intelex)\n"
     ]
    }
   ],
   "source": [
    "import pandas as pd\n",
    "import numpy as np\n",
    "import pickle\n",
    "from sklearnex import patch_sklearn\n",
    "patch_sklearn()\n",
    "from sklearn.linear_model import LogisticRegression\n",
    "from sklearn.ensemble import RandomForestClassifier\n",
    "from sklearn.model_selection import GridSearchCV,RandomizedSearchCV\n",
    "from sklearn.metrics import classification_report\n",
    "from sklearn.model_selection import train_test_split\n",
    "from sklearn.model_selection import cross_val_score\n",
    "from sklearn.metrics import confusion_matrix, ConfusionMatrixDisplay\n",
    "import matplotlib.pyplot as plt\n",
    "from sklearn.utils import shuffle\n",
    "from sklearn.preprocessing import StandardScaler\n",
    "from sklearn import decomposition, datasets\n",
    "from sklearn.pipeline import Pipeline\n",
    "from skopt import BayesSearchCV\n",
    "from sklearn.feature_selection import RFE\n",
    "from collections import Counter\n",
    "from sklearn.preprocessing import LabelEncoder\n",
    "from imblearn.over_sampling import SMOTE\n",
    "np.int = np.int_\n",
    "import warnings\n",
    "warnings.filterwarnings(\"ignore\")"
   ]
  },
  {
   "cell_type": "code",
   "execution_count": 3,
   "metadata": {},
   "outputs": [
    {
     "name": "stdout",
     "output_type": "stream",
     "text": [
      "['ucddb002', 'ucddb003', 'ucddb005', 'ucddb006', 'ucddb007', 'ucddb008', 'ucddb009', 'ucddb010', 'ucddb011', 'ucddb012', 'ucddb013', 'ucddb014', 'ucddb015', 'ucddb017', 'ucddb018', 'ucddb019', 'ucddb020', 'ucddb021', 'ucddb022', 'ucddb023', 'ucddb024', 'ucddb025', 'ucddb026', 'ucddb027', 'ucddb028']\n"
     ]
    }
   ],
   "source": [
    "data_base=[f'ucddb{i:003d}' for i in range(2, 29)]\n",
    "data_base.remove('ucddb004')\n",
    "data_base.remove('ucddb016')\n",
    "print(data_base)"
   ]
  },
  {
   "cell_type": "code",
   "execution_count": 4,
   "metadata": {},
   "outputs": [],
   "source": [
    "# df = pd.DataFrame()\n",
    "# for file in data_base:\n",
    "#     i=pd.read_csv(base_dir+f'feature/{file}_win.csv')\n",
    "#     df = pd.concat([df, i], ignore_index=True)\n",
    "# df.dropna(how='all', axis=1,inplace=True)\n",
    "# df.to_csv(base_dir+f'all/all_win.csv', index=False)"
   ]
  },
  {
   "cell_type": "code",
   "execution_count": 5,
   "metadata": {},
   "outputs": [
    {
     "data": {
      "text/html": [
       "<div>\n",
       "<style scoped>\n",
       "    .dataframe tbody tr th:only-of-type {\n",
       "        vertical-align: middle;\n",
       "    }\n",
       "\n",
       "    .dataframe tbody tr th {\n",
       "        vertical-align: top;\n",
       "    }\n",
       "\n",
       "    .dataframe thead th {\n",
       "        text-align: right;\n",
       "    }\n",
       "</style>\n",
       "<table border=\"1\" class=\"dataframe\">\n",
       "  <thead>\n",
       "    <tr style=\"text-align: right;\">\n",
       "      <th></th>\n",
       "      <th>HRV_MeanNN_x</th>\n",
       "      <th>HRV_SDNN_x</th>\n",
       "      <th>HRV_RMSSD_x</th>\n",
       "      <th>HRV_SDSD_x</th>\n",
       "      <th>HRV_CVNN_x</th>\n",
       "      <th>HRV_CVSD_x</th>\n",
       "      <th>HRV_MedianNN_x</th>\n",
       "      <th>HRV_MadNN_x</th>\n",
       "      <th>HRV_MCVNN_x</th>\n",
       "      <th>HRV_IQRNN_x</th>\n",
       "      <th>...</th>\n",
       "      <th>peak_to_peak_y</th>\n",
       "      <th>rmse_y</th>\n",
       "      <th>kurtosis_y</th>\n",
       "      <th>skewness_y</th>\n",
       "      <th>waveform_factor_y</th>\n",
       "      <th>peak_factor_y</th>\n",
       "      <th>impulse_factor_y</th>\n",
       "      <th>margin_factor_y</th>\n",
       "      <th>rms_y</th>\n",
       "      <th>anns</th>\n",
       "    </tr>\n",
       "  </thead>\n",
       "  <tbody>\n",
       "    <tr>\n",
       "      <th>0</th>\n",
       "      <td>941.406250</td>\n",
       "      <td>13.877191</td>\n",
       "      <td>10.461470</td>\n",
       "      <td>10.590011</td>\n",
       "      <td>0.014741</td>\n",
       "      <td>0.011113</td>\n",
       "      <td>937.50000</td>\n",
       "      <td>11.582812</td>\n",
       "      <td>0.012355</td>\n",
       "      <td>23.437500</td>\n",
       "      <td>...</td>\n",
       "      <td>3.426618</td>\n",
       "      <td>0.499383</td>\n",
       "      <td>3.728094</td>\n",
       "      <td>-0.717594</td>\n",
       "      <td>0.220546</td>\n",
       "      <td>6.861699</td>\n",
       "      <td>1.513324</td>\n",
       "      <td>2.803092</td>\n",
       "      <td>2.316825</td>\n",
       "      <td>0</td>\n",
       "    </tr>\n",
       "    <tr>\n",
       "      <th>1</th>\n",
       "      <td>932.963710</td>\n",
       "      <td>19.740977</td>\n",
       "      <td>10.578175</td>\n",
       "      <td>10.598053</td>\n",
       "      <td>0.021159</td>\n",
       "      <td>0.011338</td>\n",
       "      <td>937.50000</td>\n",
       "      <td>11.582812</td>\n",
       "      <td>0.012355</td>\n",
       "      <td>15.625000</td>\n",
       "      <td>...</td>\n",
       "      <td>3.426618</td>\n",
       "      <td>0.510929</td>\n",
       "      <td>3.205934</td>\n",
       "      <td>-0.847646</td>\n",
       "      <td>0.219974</td>\n",
       "      <td>6.706639</td>\n",
       "      <td>1.475284</td>\n",
       "      <td>2.785778</td>\n",
       "      <td>2.378262</td>\n",
       "      <td>0</td>\n",
       "    </tr>\n",
       "    <tr>\n",
       "      <th>2</th>\n",
       "      <td>784.417230</td>\n",
       "      <td>84.031488</td>\n",
       "      <td>92.695165</td>\n",
       "      <td>94.005934</td>\n",
       "      <td>0.107126</td>\n",
       "      <td>0.118171</td>\n",
       "      <td>773.43750</td>\n",
       "      <td>57.914062</td>\n",
       "      <td>0.074879</td>\n",
       "      <td>93.750000</td>\n",
       "      <td>...</td>\n",
       "      <td>3.426618</td>\n",
       "      <td>0.512045</td>\n",
       "      <td>3.090319</td>\n",
       "      <td>-1.034765</td>\n",
       "      <td>0.213657</td>\n",
       "      <td>6.692021</td>\n",
       "      <td>1.429797</td>\n",
       "      <td>2.764269</td>\n",
       "      <td>2.453831</td>\n",
       "      <td>0</td>\n",
       "    </tr>\n",
       "    <tr>\n",
       "      <th>3</th>\n",
       "      <td>915.826613</td>\n",
       "      <td>27.783640</td>\n",
       "      <td>20.768127</td>\n",
       "      <td>21.063296</td>\n",
       "      <td>0.030337</td>\n",
       "      <td>0.022677</td>\n",
       "      <td>914.06250</td>\n",
       "      <td>23.165625</td>\n",
       "      <td>0.025344</td>\n",
       "      <td>27.343750</td>\n",
       "      <td>...</td>\n",
       "      <td>3.409035</td>\n",
       "      <td>0.460080</td>\n",
       "      <td>3.062617</td>\n",
       "      <td>-0.937992</td>\n",
       "      <td>0.185486</td>\n",
       "      <td>7.409661</td>\n",
       "      <td>1.374385</td>\n",
       "      <td>2.723429</td>\n",
       "      <td>2.526806</td>\n",
       "      <td>0</td>\n",
       "    </tr>\n",
       "    <tr>\n",
       "      <th>4</th>\n",
       "      <td>851.562500</td>\n",
       "      <td>115.654429</td>\n",
       "      <td>69.943265</td>\n",
       "      <td>71.024059</td>\n",
       "      <td>0.135814</td>\n",
       "      <td>0.082135</td>\n",
       "      <td>878.90625</td>\n",
       "      <td>98.453906</td>\n",
       "      <td>0.112019</td>\n",
       "      <td>146.484375</td>\n",
       "      <td>...</td>\n",
       "      <td>3.409035</td>\n",
       "      <td>0.469791</td>\n",
       "      <td>4.127472</td>\n",
       "      <td>-1.289496</td>\n",
       "      <td>0.184498</td>\n",
       "      <td>7.256494</td>\n",
       "      <td>1.338809</td>\n",
       "      <td>2.705254</td>\n",
       "      <td>2.589996</td>\n",
       "      <td>0</td>\n",
       "    </tr>\n",
       "    <tr>\n",
       "      <th>...</th>\n",
       "      <td>...</td>\n",
       "      <td>...</td>\n",
       "      <td>...</td>\n",
       "      <td>...</td>\n",
       "      <td>...</td>\n",
       "      <td>...</td>\n",
       "      <td>...</td>\n",
       "      <td>...</td>\n",
       "      <td>...</td>\n",
       "      <td>...</td>\n",
       "      <td>...</td>\n",
       "      <td>...</td>\n",
       "      <td>...</td>\n",
       "      <td>...</td>\n",
       "      <td>...</td>\n",
       "      <td>...</td>\n",
       "      <td>...</td>\n",
       "      <td>...</td>\n",
       "      <td>...</td>\n",
       "      <td>...</td>\n",
       "      <td>...</td>\n",
       "    </tr>\n",
       "    <tr>\n",
       "      <th>20399</th>\n",
       "      <td>803.819444</td>\n",
       "      <td>42.248541</td>\n",
       "      <td>22.410536</td>\n",
       "      <td>22.369303</td>\n",
       "      <td>0.052560</td>\n",
       "      <td>0.027880</td>\n",
       "      <td>808.59375</td>\n",
       "      <td>28.957031</td>\n",
       "      <td>0.035812</td>\n",
       "      <td>33.203125</td>\n",
       "      <td>...</td>\n",
       "      <td>0.238339</td>\n",
       "      <td>0.114037</td>\n",
       "      <td>-1.477381</td>\n",
       "      <td>0.240137</td>\n",
       "      <td>0.037104</td>\n",
       "      <td>2.090020</td>\n",
       "      <td>0.077549</td>\n",
       "      <td>0.180015</td>\n",
       "      <td>3.074504</td>\n",
       "      <td>0</td>\n",
       "    </tr>\n",
       "    <tr>\n",
       "      <th>20400</th>\n",
       "      <td>740.985577</td>\n",
       "      <td>57.787447</td>\n",
       "      <td>17.377094</td>\n",
       "      <td>17.605423</td>\n",
       "      <td>0.077987</td>\n",
       "      <td>0.023451</td>\n",
       "      <td>734.37500</td>\n",
       "      <td>69.496875</td>\n",
       "      <td>0.094634</td>\n",
       "      <td>85.937500</td>\n",
       "      <td>...</td>\n",
       "      <td>0.238339</td>\n",
       "      <td>0.114434</td>\n",
       "      <td>-1.474395</td>\n",
       "      <td>0.259257</td>\n",
       "      <td>0.037259</td>\n",
       "      <td>2.082769</td>\n",
       "      <td>0.077601</td>\n",
       "      <td>0.180046</td>\n",
       "      <td>3.072412</td>\n",
       "      <td>0</td>\n",
       "    </tr>\n",
       "    <tr>\n",
       "      <th>20401</th>\n",
       "      <td>805.555556</td>\n",
       "      <td>13.043136</td>\n",
       "      <td>11.587810</td>\n",
       "      <td>11.754803</td>\n",
       "      <td>0.016191</td>\n",
       "      <td>0.014385</td>\n",
       "      <td>804.68750</td>\n",
       "      <td>11.582812</td>\n",
       "      <td>0.014394</td>\n",
       "      <td>15.625000</td>\n",
       "      <td>...</td>\n",
       "      <td>0.236386</td>\n",
       "      <td>0.113433</td>\n",
       "      <td>-1.441417</td>\n",
       "      <td>0.320433</td>\n",
       "      <td>0.036976</td>\n",
       "      <td>2.083932</td>\n",
       "      <td>0.077055</td>\n",
       "      <td>0.178622</td>\n",
       "      <td>3.068847</td>\n",
       "      <td>0</td>\n",
       "    </tr>\n",
       "    <tr>\n",
       "      <th>20402</th>\n",
       "      <td>808.159722</td>\n",
       "      <td>16.004808</td>\n",
       "      <td>10.889563</td>\n",
       "      <td>11.048543</td>\n",
       "      <td>0.019804</td>\n",
       "      <td>0.013475</td>\n",
       "      <td>812.50000</td>\n",
       "      <td>23.165625</td>\n",
       "      <td>0.028512</td>\n",
       "      <td>23.437500</td>\n",
       "      <td>...</td>\n",
       "      <td>0.236386</td>\n",
       "      <td>0.112289</td>\n",
       "      <td>-1.428370</td>\n",
       "      <td>0.317029</td>\n",
       "      <td>0.036602</td>\n",
       "      <td>2.105157</td>\n",
       "      <td>0.077054</td>\n",
       "      <td>0.178621</td>\n",
       "      <td>3.068897</td>\n",
       "      <td>2</td>\n",
       "    </tr>\n",
       "    <tr>\n",
       "      <th>20403</th>\n",
       "      <td>792.229730</td>\n",
       "      <td>19.527731</td>\n",
       "      <td>10.001492</td>\n",
       "      <td>9.948072</td>\n",
       "      <td>0.024649</td>\n",
       "      <td>0.012624</td>\n",
       "      <td>796.87500</td>\n",
       "      <td>23.165625</td>\n",
       "      <td>0.029071</td>\n",
       "      <td>23.437500</td>\n",
       "      <td>...</td>\n",
       "      <td>0.238339</td>\n",
       "      <td>0.113477</td>\n",
       "      <td>-1.419373</td>\n",
       "      <td>0.332327</td>\n",
       "      <td>0.036994</td>\n",
       "      <td>2.100331</td>\n",
       "      <td>0.077699</td>\n",
       "      <td>0.180102</td>\n",
       "      <td>3.068573</td>\n",
       "      <td>2</td>\n",
       "    </tr>\n",
       "  </tbody>\n",
       "</table>\n",
       "<p>20404 rows × 188 columns</p>\n",
       "</div>"
      ],
      "text/plain": [
       "       HRV_MeanNN_x  HRV_SDNN_x  HRV_RMSSD_x  HRV_SDSD_x  HRV_CVNN_x  \\\n",
       "0        941.406250   13.877191    10.461470   10.590011    0.014741   \n",
       "1        932.963710   19.740977    10.578175   10.598053    0.021159   \n",
       "2        784.417230   84.031488    92.695165   94.005934    0.107126   \n",
       "3        915.826613   27.783640    20.768127   21.063296    0.030337   \n",
       "4        851.562500  115.654429    69.943265   71.024059    0.135814   \n",
       "...             ...         ...          ...         ...         ...   \n",
       "20399    803.819444   42.248541    22.410536   22.369303    0.052560   \n",
       "20400    740.985577   57.787447    17.377094   17.605423    0.077987   \n",
       "20401    805.555556   13.043136    11.587810   11.754803    0.016191   \n",
       "20402    808.159722   16.004808    10.889563   11.048543    0.019804   \n",
       "20403    792.229730   19.527731    10.001492    9.948072    0.024649   \n",
       "\n",
       "       HRV_CVSD_x  HRV_MedianNN_x  HRV_MadNN_x  HRV_MCVNN_x  HRV_IQRNN_x  ...  \\\n",
       "0        0.011113       937.50000    11.582812     0.012355    23.437500  ...   \n",
       "1        0.011338       937.50000    11.582812     0.012355    15.625000  ...   \n",
       "2        0.118171       773.43750    57.914062     0.074879    93.750000  ...   \n",
       "3        0.022677       914.06250    23.165625     0.025344    27.343750  ...   \n",
       "4        0.082135       878.90625    98.453906     0.112019   146.484375  ...   \n",
       "...           ...             ...          ...          ...          ...  ...   \n",
       "20399    0.027880       808.59375    28.957031     0.035812    33.203125  ...   \n",
       "20400    0.023451       734.37500    69.496875     0.094634    85.937500  ...   \n",
       "20401    0.014385       804.68750    11.582812     0.014394    15.625000  ...   \n",
       "20402    0.013475       812.50000    23.165625     0.028512    23.437500  ...   \n",
       "20403    0.012624       796.87500    23.165625     0.029071    23.437500  ...   \n",
       "\n",
       "       peak_to_peak_y    rmse_y  kurtosis_y  skewness_y  waveform_factor_y  \\\n",
       "0            3.426618  0.499383    3.728094   -0.717594           0.220546   \n",
       "1            3.426618  0.510929    3.205934   -0.847646           0.219974   \n",
       "2            3.426618  0.512045    3.090319   -1.034765           0.213657   \n",
       "3            3.409035  0.460080    3.062617   -0.937992           0.185486   \n",
       "4            3.409035  0.469791    4.127472   -1.289496           0.184498   \n",
       "...               ...       ...         ...         ...                ...   \n",
       "20399        0.238339  0.114037   -1.477381    0.240137           0.037104   \n",
       "20400        0.238339  0.114434   -1.474395    0.259257           0.037259   \n",
       "20401        0.236386  0.113433   -1.441417    0.320433           0.036976   \n",
       "20402        0.236386  0.112289   -1.428370    0.317029           0.036602   \n",
       "20403        0.238339  0.113477   -1.419373    0.332327           0.036994   \n",
       "\n",
       "       peak_factor_y  impulse_factor_y  margin_factor_y     rms_y  anns  \n",
       "0           6.861699          1.513324         2.803092  2.316825     0  \n",
       "1           6.706639          1.475284         2.785778  2.378262     0  \n",
       "2           6.692021          1.429797         2.764269  2.453831     0  \n",
       "3           7.409661          1.374385         2.723429  2.526806     0  \n",
       "4           7.256494          1.338809         2.705254  2.589996     0  \n",
       "...              ...               ...              ...       ...   ...  \n",
       "20399       2.090020          0.077549         0.180015  3.074504     0  \n",
       "20400       2.082769          0.077601         0.180046  3.072412     0  \n",
       "20401       2.083932          0.077055         0.178622  3.068847     0  \n",
       "20402       2.105157          0.077054         0.178621  3.068897     2  \n",
       "20403       2.100331          0.077699         0.180102  3.068573     2  \n",
       "\n",
       "[20404 rows x 188 columns]"
      ]
     },
     "execution_count": 5,
     "metadata": {},
     "output_type": "execute_result"
    }
   ],
   "source": [
    "data_set = pd.read_csv(base_dir+f'all/all_win.csv')\n",
    "data_set = data_set.replace((np.inf, -np.inf, np.nan), 0).reset_index(drop=True)\n",
    "data_set"
   ]
  },
  {
   "cell_type": "code",
   "execution_count": 6,
   "metadata": {},
   "outputs": [
    {
     "name": "stdout",
     "output_type": "stream",
     "text": [
      "Fitting estimator with 187 features.\n",
      "Fitting estimator with 184 features.\n",
      "Fitting estimator with 181 features.\n",
      "Fitting estimator with 178 features.\n",
      "Fitting estimator with 175 features.\n",
      "Fitting estimator with 172 features.\n",
      "Fitting estimator with 169 features.\n",
      "Fitting estimator with 166 features.\n",
      "Fitting estimator with 163 features.\n",
      "Fitting estimator with 160 features.\n",
      "Fitting estimator with 157 features.\n",
      "Fitting estimator with 154 features.\n",
      "Fitting estimator with 151 features.\n",
      "Fitting estimator with 148 features.\n",
      "Fitting estimator with 145 features.\n",
      "Fitting estimator with 142 features.\n",
      "Fitting estimator with 139 features.\n",
      "Fitting estimator with 136 features.\n",
      "Fitting estimator with 133 features.\n",
      "Fitting estimator with 130 features.\n",
      "Fitting estimator with 127 features.\n",
      "Fitting estimator with 124 features.\n",
      "Fitting estimator with 121 features.\n",
      "Fitting estimator with 118 features.\n",
      "Fitting estimator with 115 features.\n",
      "Fitting estimator with 112 features.\n",
      "Fitting estimator with 109 features.\n",
      "Fitting estimator with 106 features.\n",
      "Fitting estimator with 103 features.\n",
      "Fitting estimator with 100 features.\n",
      "Fitting estimator with 97 features.\n",
      "Fitting estimator with 94 features.\n",
      "Fitting estimator with 91 features.\n",
      "Fitting estimator with 88 features.\n",
      "Fitting estimator with 85 features.\n",
      "Fitting estimator with 82 features.\n",
      "Fitting estimator with 79 features.\n",
      "Fitting estimator with 76 features.\n",
      "Fitting estimator with 73 features.\n",
      "Fitting estimator with 70 features.\n",
      "Fitting estimator with 67 features.\n",
      "Fitting estimator with 64 features.\n",
      "Fitting estimator with 61 features.\n",
      "Fitting estimator with 58 features.\n",
      "Fitting estimator with 55 features.\n",
      "Fitting estimator with 52 features.\n",
      "Fitting estimator with 49 features.\n",
      "Fitting estimator with 46 features.\n",
      "Fitting estimator with 43 features.\n",
      "Fitting estimator with 40 features.\n",
      "Fitting estimator with 37 features.\n",
      "Fitting estimator with 34 features.\n",
      "Fitting estimator with 31 features.\n"
     ]
    }
   ],
   "source": [
    "# Assuming your target variable is named 'target'\n",
    "x = data_set.drop('anns', axis=1)  # Features\n",
    "y = data_set['anns']  # Target variable\n",
    "\n",
    "# Create the estimator (in this case, LogisticRegression)\n",
    "estimator = RandomForestClassifier()\n",
    "\n",
    "# Create the RFE object\n",
    "rfe = RFE(estimator, n_features_to_select=30, step=3, verbose=10)\n",
    "\n",
    "# Fit the RFE object to the data\n",
    "rfe.fit(x, y)\n",
    "\n",
    "# Get the column names of the selected features\n",
    "selected_features = x.columns[rfe.support_]\n",
    "\n",
    "# Create a new DataFrame with the selected features\n",
    "x = data_set[selected_features]"
   ]
  },
  {
   "cell_type": "code",
   "execution_count": 7,
   "metadata": {},
   "outputs": [
    {
     "data": {
      "text/html": [
       "<div>\n",
       "<style scoped>\n",
       "    .dataframe tbody tr th:only-of-type {\n",
       "        vertical-align: middle;\n",
       "    }\n",
       "\n",
       "    .dataframe tbody tr th {\n",
       "        vertical-align: top;\n",
       "    }\n",
       "\n",
       "    .dataframe thead th {\n",
       "        text-align: right;\n",
       "    }\n",
       "</style>\n",
       "<table border=\"1\" class=\"dataframe\">\n",
       "  <thead>\n",
       "    <tr style=\"text-align: right;\">\n",
       "      <th></th>\n",
       "      <th>HRV_MeanNN_x</th>\n",
       "      <th>HRV_Prc20NN_x</th>\n",
       "      <th>HRV_MeanNN_y</th>\n",
       "      <th>HRV_SDANN1_y</th>\n",
       "      <th>HRV_CVSD_y</th>\n",
       "      <th>HRV_MCVNN_y</th>\n",
       "      <th>HRV_pNN20_y</th>\n",
       "      <th>HRV_MinNN_y</th>\n",
       "      <th>HRV_MaxNN_y</th>\n",
       "      <th>HRV_SD1SD2_y</th>\n",
       "      <th>...</th>\n",
       "      <th>mean_y</th>\n",
       "      <th>std_y</th>\n",
       "      <th>var_y</th>\n",
       "      <th>rmse_y</th>\n",
       "      <th>kurtosis_y</th>\n",
       "      <th>skewness_y</th>\n",
       "      <th>waveform_factor_y</th>\n",
       "      <th>peak_factor_y</th>\n",
       "      <th>margin_factor_y</th>\n",
       "      <th>rms_y</th>\n",
       "    </tr>\n",
       "  </thead>\n",
       "  <tbody>\n",
       "    <tr>\n",
       "      <th>0</th>\n",
       "      <td>941.406250</td>\n",
       "      <td>929.6875</td>\n",
       "      <td>887.054896</td>\n",
       "      <td>55.045392</td>\n",
       "      <td>0.111944</td>\n",
       "      <td>0.062822</td>\n",
       "      <td>32.937685</td>\n",
       "      <td>304.6875</td>\n",
       "      <td>1656.2500</td>\n",
       "      <td>0.468204</td>\n",
       "      <td>...</td>\n",
       "      <td>2.264299</td>\n",
       "      <td>0.490537</td>\n",
       "      <td>0.240627</td>\n",
       "      <td>0.499383</td>\n",
       "      <td>3.728094</td>\n",
       "      <td>-0.717594</td>\n",
       "      <td>0.220546</td>\n",
       "      <td>6.861699</td>\n",
       "      <td>2.803092</td>\n",
       "      <td>2.316825</td>\n",
       "    </tr>\n",
       "    <tr>\n",
       "      <th>1</th>\n",
       "      <td>932.963710</td>\n",
       "      <td>929.6875</td>\n",
       "      <td>890.181903</td>\n",
       "      <td>34.516891</td>\n",
       "      <td>0.112334</td>\n",
       "      <td>0.062822</td>\n",
       "      <td>35.223881</td>\n",
       "      <td>304.6875</td>\n",
       "      <td>1656.2500</td>\n",
       "      <td>0.467034</td>\n",
       "      <td>...</td>\n",
       "      <td>2.322683</td>\n",
       "      <td>0.511149</td>\n",
       "      <td>0.261274</td>\n",
       "      <td>0.510929</td>\n",
       "      <td>3.205934</td>\n",
       "      <td>-0.847646</td>\n",
       "      <td>0.219974</td>\n",
       "      <td>6.706639</td>\n",
       "      <td>2.785778</td>\n",
       "      <td>2.378262</td>\n",
       "    </tr>\n",
       "    <tr>\n",
       "      <th>2</th>\n",
       "      <td>784.417230</td>\n",
       "      <td>750.0000</td>\n",
       "      <td>893.314933</td>\n",
       "      <td>59.306612</td>\n",
       "      <td>0.112102</td>\n",
       "      <td>0.062294</td>\n",
       "      <td>35.928144</td>\n",
       "      <td>304.6875</td>\n",
       "      <td>1656.2500</td>\n",
       "      <td>0.459784</td>\n",
       "      <td>...</td>\n",
       "      <td>2.396577</td>\n",
       "      <td>0.526978</td>\n",
       "      <td>0.277706</td>\n",
       "      <td>0.512045</td>\n",
       "      <td>3.090319</td>\n",
       "      <td>-1.034765</td>\n",
       "      <td>0.213657</td>\n",
       "      <td>6.692021</td>\n",
       "      <td>2.764269</td>\n",
       "      <td>2.453831</td>\n",
       "    </tr>\n",
       "    <tr>\n",
       "      <th>3</th>\n",
       "      <td>915.826613</td>\n",
       "      <td>898.4375</td>\n",
       "      <td>911.847370</td>\n",
       "      <td>38.943009</td>\n",
       "      <td>0.105690</td>\n",
       "      <td>0.049420</td>\n",
       "      <td>32.926829</td>\n",
       "      <td>304.6875</td>\n",
       "      <td>1656.2500</td>\n",
       "      <td>0.475065</td>\n",
       "      <td>...</td>\n",
       "      <td>2.480407</td>\n",
       "      <td>0.482002</td>\n",
       "      <td>0.232326</td>\n",
       "      <td>0.460080</td>\n",
       "      <td>3.062617</td>\n",
       "      <td>-0.937992</td>\n",
       "      <td>0.185486</td>\n",
       "      <td>7.409661</td>\n",
       "      <td>2.723429</td>\n",
       "      <td>2.526806</td>\n",
       "    </tr>\n",
       "    <tr>\n",
       "      <th>4</th>\n",
       "      <td>851.562500</td>\n",
       "      <td>789.0625</td>\n",
       "      <td>913.560780</td>\n",
       "      <td>54.877815</td>\n",
       "      <td>0.105679</td>\n",
       "      <td>0.036759</td>\n",
       "      <td>32.110092</td>\n",
       "      <td>304.6875</td>\n",
       "      <td>1656.2500</td>\n",
       "      <td>0.473701</td>\n",
       "      <td>...</td>\n",
       "      <td>2.546320</td>\n",
       "      <td>0.473641</td>\n",
       "      <td>0.224336</td>\n",
       "      <td>0.469791</td>\n",
       "      <td>4.127472</td>\n",
       "      <td>-1.289496</td>\n",
       "      <td>0.184498</td>\n",
       "      <td>7.256494</td>\n",
       "      <td>2.705254</td>\n",
       "      <td>2.589996</td>\n",
       "    </tr>\n",
       "    <tr>\n",
       "      <th>...</th>\n",
       "      <td>...</td>\n",
       "      <td>...</td>\n",
       "      <td>...</td>\n",
       "      <td>...</td>\n",
       "      <td>...</td>\n",
       "      <td>...</td>\n",
       "      <td>...</td>\n",
       "      <td>...</td>\n",
       "      <td>...</td>\n",
       "      <td>...</td>\n",
       "      <td>...</td>\n",
       "      <td>...</td>\n",
       "      <td>...</td>\n",
       "      <td>...</td>\n",
       "      <td>...</td>\n",
       "      <td>...</td>\n",
       "      <td>...</td>\n",
       "      <td>...</td>\n",
       "      <td>...</td>\n",
       "      <td>...</td>\n",
       "      <td>...</td>\n",
       "    </tr>\n",
       "    <tr>\n",
       "      <th>20399</th>\n",
       "      <td>803.819444</td>\n",
       "      <td>789.0625</td>\n",
       "      <td>793.849469</td>\n",
       "      <td>14.224312</td>\n",
       "      <td>0.020415</td>\n",
       "      <td>0.029071</td>\n",
       "      <td>12.466844</td>\n",
       "      <td>632.8125</td>\n",
       "      <td>882.8125</td>\n",
       "      <td>0.234756</td>\n",
       "      <td>...</td>\n",
       "      <td>3.073420</td>\n",
       "      <td>0.081616</td>\n",
       "      <td>0.006661</td>\n",
       "      <td>0.114037</td>\n",
       "      <td>-1.477381</td>\n",
       "      <td>0.240137</td>\n",
       "      <td>0.037104</td>\n",
       "      <td>2.090020</td>\n",
       "      <td>0.180015</td>\n",
       "      <td>3.074504</td>\n",
       "    </tr>\n",
       "    <tr>\n",
       "      <th>20400</th>\n",
       "      <td>740.985577</td>\n",
       "      <td>692.1875</td>\n",
       "      <td>794.921875</td>\n",
       "      <td>16.700587</td>\n",
       "      <td>0.019212</td>\n",
       "      <td>0.028788</td>\n",
       "      <td>12.500000</td>\n",
       "      <td>632.8125</td>\n",
       "      <td>882.8125</td>\n",
       "      <td>0.228074</td>\n",
       "      <td>...</td>\n",
       "      <td>3.071327</td>\n",
       "      <td>0.081651</td>\n",
       "      <td>0.006667</td>\n",
       "      <td>0.114434</td>\n",
       "      <td>-1.474395</td>\n",
       "      <td>0.259257</td>\n",
       "      <td>0.037259</td>\n",
       "      <td>2.082769</td>\n",
       "      <td>0.180046</td>\n",
       "      <td>3.072412</td>\n",
       "    </tr>\n",
       "    <tr>\n",
       "      <th>20401</th>\n",
       "      <td>805.555556</td>\n",
       "      <td>796.8750</td>\n",
       "      <td>800.289042</td>\n",
       "      <td>6.541426</td>\n",
       "      <td>0.018375</td>\n",
       "      <td>0.028788</td>\n",
       "      <td>10.723861</td>\n",
       "      <td>726.5625</td>\n",
       "      <td>882.8125</td>\n",
       "      <td>0.336018</td>\n",
       "      <td>...</td>\n",
       "      <td>3.067751</td>\n",
       "      <td>0.082016</td>\n",
       "      <td>0.006727</td>\n",
       "      <td>0.113433</td>\n",
       "      <td>-1.441417</td>\n",
       "      <td>0.320433</td>\n",
       "      <td>0.036976</td>\n",
       "      <td>2.083932</td>\n",
       "      <td>0.178622</td>\n",
       "      <td>3.068847</td>\n",
       "    </tr>\n",
       "    <tr>\n",
       "      <th>20402</th>\n",
       "      <td>808.159722</td>\n",
       "      <td>796.8750</td>\n",
       "      <td>793.662964</td>\n",
       "      <td>18.535262</td>\n",
       "      <td>0.018353</td>\n",
       "      <td>0.029071</td>\n",
       "      <td>10.344828</td>\n",
       "      <td>679.6875</td>\n",
       "      <td>882.8125</td>\n",
       "      <td>0.249087</td>\n",
       "      <td>...</td>\n",
       "      <td>3.067813</td>\n",
       "      <td>0.081559</td>\n",
       "      <td>0.006652</td>\n",
       "      <td>0.112289</td>\n",
       "      <td>-1.428370</td>\n",
       "      <td>0.317029</td>\n",
       "      <td>0.036602</td>\n",
       "      <td>2.105157</td>\n",
       "      <td>0.178621</td>\n",
       "      <td>3.068897</td>\n",
       "    </tr>\n",
       "    <tr>\n",
       "      <th>20403</th>\n",
       "      <td>792.229730</td>\n",
       "      <td>775.0000</td>\n",
       "      <td>792.390046</td>\n",
       "      <td>14.811247</td>\n",
       "      <td>0.018393</td>\n",
       "      <td>0.029071</td>\n",
       "      <td>10.582011</td>\n",
       "      <td>679.6875</td>\n",
       "      <td>882.8125</td>\n",
       "      <td>0.249226</td>\n",
       "      <td>...</td>\n",
       "      <td>3.067486</td>\n",
       "      <td>0.081682</td>\n",
       "      <td>0.006672</td>\n",
       "      <td>0.113477</td>\n",
       "      <td>-1.419373</td>\n",
       "      <td>0.332327</td>\n",
       "      <td>0.036994</td>\n",
       "      <td>2.100331</td>\n",
       "      <td>0.180102</td>\n",
       "      <td>3.068573</td>\n",
       "    </tr>\n",
       "  </tbody>\n",
       "</table>\n",
       "<p>20404 rows × 30 columns</p>\n",
       "</div>"
      ],
      "text/plain": [
       "       HRV_MeanNN_x  HRV_Prc20NN_x  HRV_MeanNN_y  HRV_SDANN1_y  HRV_CVSD_y  \\\n",
       "0        941.406250       929.6875    887.054896     55.045392    0.111944   \n",
       "1        932.963710       929.6875    890.181903     34.516891    0.112334   \n",
       "2        784.417230       750.0000    893.314933     59.306612    0.112102   \n",
       "3        915.826613       898.4375    911.847370     38.943009    0.105690   \n",
       "4        851.562500       789.0625    913.560780     54.877815    0.105679   \n",
       "...             ...            ...           ...           ...         ...   \n",
       "20399    803.819444       789.0625    793.849469     14.224312    0.020415   \n",
       "20400    740.985577       692.1875    794.921875     16.700587    0.019212   \n",
       "20401    805.555556       796.8750    800.289042      6.541426    0.018375   \n",
       "20402    808.159722       796.8750    793.662964     18.535262    0.018353   \n",
       "20403    792.229730       775.0000    792.390046     14.811247    0.018393   \n",
       "\n",
       "       HRV_MCVNN_y  HRV_pNN20_y  HRV_MinNN_y  HRV_MaxNN_y  HRV_SD1SD2_y  ...  \\\n",
       "0         0.062822    32.937685     304.6875    1656.2500      0.468204  ...   \n",
       "1         0.062822    35.223881     304.6875    1656.2500      0.467034  ...   \n",
       "2         0.062294    35.928144     304.6875    1656.2500      0.459784  ...   \n",
       "3         0.049420    32.926829     304.6875    1656.2500      0.475065  ...   \n",
       "4         0.036759    32.110092     304.6875    1656.2500      0.473701  ...   \n",
       "...            ...          ...          ...          ...           ...  ...   \n",
       "20399     0.029071    12.466844     632.8125     882.8125      0.234756  ...   \n",
       "20400     0.028788    12.500000     632.8125     882.8125      0.228074  ...   \n",
       "20401     0.028788    10.723861     726.5625     882.8125      0.336018  ...   \n",
       "20402     0.029071    10.344828     679.6875     882.8125      0.249087  ...   \n",
       "20403     0.029071    10.582011     679.6875     882.8125      0.249226  ...   \n",
       "\n",
       "         mean_y     std_y     var_y    rmse_y  kurtosis_y  skewness_y  \\\n",
       "0      2.264299  0.490537  0.240627  0.499383    3.728094   -0.717594   \n",
       "1      2.322683  0.511149  0.261274  0.510929    3.205934   -0.847646   \n",
       "2      2.396577  0.526978  0.277706  0.512045    3.090319   -1.034765   \n",
       "3      2.480407  0.482002  0.232326  0.460080    3.062617   -0.937992   \n",
       "4      2.546320  0.473641  0.224336  0.469791    4.127472   -1.289496   \n",
       "...         ...       ...       ...       ...         ...         ...   \n",
       "20399  3.073420  0.081616  0.006661  0.114037   -1.477381    0.240137   \n",
       "20400  3.071327  0.081651  0.006667  0.114434   -1.474395    0.259257   \n",
       "20401  3.067751  0.082016  0.006727  0.113433   -1.441417    0.320433   \n",
       "20402  3.067813  0.081559  0.006652  0.112289   -1.428370    0.317029   \n",
       "20403  3.067486  0.081682  0.006672  0.113477   -1.419373    0.332327   \n",
       "\n",
       "       waveform_factor_y  peak_factor_y  margin_factor_y     rms_y  \n",
       "0               0.220546       6.861699         2.803092  2.316825  \n",
       "1               0.219974       6.706639         2.785778  2.378262  \n",
       "2               0.213657       6.692021         2.764269  2.453831  \n",
       "3               0.185486       7.409661         2.723429  2.526806  \n",
       "4               0.184498       7.256494         2.705254  2.589996  \n",
       "...                  ...            ...              ...       ...  \n",
       "20399           0.037104       2.090020         0.180015  3.074504  \n",
       "20400           0.037259       2.082769         0.180046  3.072412  \n",
       "20401           0.036976       2.083932         0.178622  3.068847  \n",
       "20402           0.036602       2.105157         0.178621  3.068897  \n",
       "20403           0.036994       2.100331         0.180102  3.068573  \n",
       "\n",
       "[20404 rows x 30 columns]"
      ]
     },
     "execution_count": 7,
     "metadata": {},
     "output_type": "execute_result"
    }
   ],
   "source": [
    "x"
   ]
  },
  {
   "cell_type": "code",
   "execution_count": 8,
   "metadata": {},
   "outputs": [
    {
     "name": "stdout",
     "output_type": "stream",
     "text": [
      "Class=0, n=4405 (21.589%)\n",
      "Class=2, n=10347 (50.711%)\n",
      "Class=3, n=2661 (13.042%)\n",
      "Class=1, n=2991 (14.659%)\n"
     ]
    },
    {
     "data": {
      "image/png": "[encoded data removed]",
      "text/plain": [
       "<Figure size 640x480 with 1 Axes>"
      ]
     },
     "metadata": {},
     "output_type": "display_data"
    }
   ],
   "source": [
    "# summarize distribution\n",
    "counter = Counter(y)\n",
    "for k,v in counter.items():\n",
    " per = v / len(y) * 100\n",
    " print('Class=%d, n=%d (%.3f%%)' % (k, v, per))\n",
    "# plot the distribution\n",
    "plt.bar(counter.keys(), counter.values())\n",
    "plt.show()"
   ]
  },
  {
   "cell_type": "code",
   "execution_count": 9,
   "metadata": {},
   "outputs": [],
   "source": [
    "x_train, x_test, y_train, y_test= train_test_split(x,y, test_size=0.2,stratify=y,random_state=1)"
   ]
  },
  {
   "cell_type": "code",
   "execution_count": 10,
   "metadata": {},
   "outputs": [],
   "source": [
    "# model = LogisticRegression()\n",
    "# model.fit(x_train, y_train)\n",
    "# y_pred= model.predict(x_test)\n",
    "# print(classification_report(y_test,y_pred,target_names=['WAKE','REM','LIGHT','DEEP']))"
   ]
  },
  {
   "cell_type": "code",
   "execution_count": 11,
   "metadata": {},
   "outputs": [
    {
     "name": "stdout",
     "output_type": "stream",
     "text": [
      "Fitting 5 folds for each of 1 candidates, totalling 5 fits\n",
      "[CV 4/5] END m__C=10, m__penalty=l2, m__solver=liblinear, m__tol=0.001;, score=0.479 total time=   0.5s\n",
      "[CV 1/5] END m__C=10, m__penalty=l2, m__solver=liblinear, m__tol=0.001;, score=0.471 total time=   0.9s\n",
      "[CV 3/5] END m__C=10, m__penalty=l2, m__solver=liblinear, m__tol=0.001;, score=0.469 total time=   1.0s\n",
      "[CV 5/5] END m__C=10, m__penalty=l2, m__solver=liblinear, m__tol=0.001;, score=0.484 total time=   0.9s\n",
      "[CV 2/5] END m__C=10, m__penalty=l2, m__solver=liblinear, m__tol=0.001;, score=0.474 total time=   1.3s\n",
      "Fitting 5 folds for each of 1 candidates, totalling 5 fits\n"
     ]
    },
    {
     "name": "stderr",
     "output_type": "stream",
     "text": [
      "/home/zahra/anaconda3/lib/python3.12/site-packages/sklearn/linear_model/_sag.py:349: ConvergenceWarning: The max_iter was reached which means the coef_ did not converge\n",
      "  warnings.warn(\n"
     ]
    },
    {
     "name": "stdout",
     "output_type": "stream",
     "text": [
      "[CV 4/5] END m__C=0.1, m__penalty=l1, m__solver=saga, m__tol=0.001;, score=0.477 total time=   0.8s\n"
     ]
    },
    {
     "name": "stderr",
     "output_type": "stream",
     "text": [
      "/home/zahra/anaconda3/lib/python3.12/site-packages/sklearn/linear_model/_sag.py:349: ConvergenceWarning: The max_iter was reached which means the coef_ did not converge\n",
      "  warnings.warn(\n"
     ]
    },
    {
     "name": "stdout",
     "output_type": "stream",
     "text": [
      "[CV 2/5] END m__C=0.1, m__penalty=l1, m__solver=saga, m__tol=0.001;, score=0.481 total time=   0.9s\n"
     ]
    },
    {
     "name": "stderr",
     "output_type": "stream",
     "text": [
      "/home/zahra/anaconda3/lib/python3.12/site-packages/sklearn/linear_model/_sag.py:349: ConvergenceWarning: The max_iter was reached which means the coef_ did not converge\n",
      "  warnings.warn(\n",
      "/home/zahra/anaconda3/lib/python3.12/site-packages/sklearn/linear_model/_sag.py:349: ConvergenceWarning: The max_iter was reached which means the coef_ did not converge\n",
      "  warnings.warn(\n",
      "/home/zahra/anaconda3/lib/python3.12/site-packages/sklearn/linear_model/_sag.py:349: ConvergenceWarning: The max_iter was reached which means the coef_ did not converge\n",
      "  warnings.warn(\n"
     ]
    },
    {
     "name": "stdout",
     "output_type": "stream",
     "text": [
      "[CV 5/5] END m__C=0.1, m__penalty=l1, m__solver=saga, m__tol=0.001;, score=0.495 total time=   1.7s\n",
      "[CV 3/5] END m__C=0.1, m__penalty=l1, m__solver=saga, m__tol=0.001;, score=0.473 total time=   1.7s\n",
      "[CV 1/5] END m__C=0.1, m__penalty=l1, m__solver=saga, m__tol=0.001;, score=0.473 total time=   1.7s\n",
      "Fitting 5 folds for each of 1 candidates, totalling 5 fits\n"
     ]
    },
    {
     "name": "stderr",
     "output_type": "stream",
     "text": [
      "/home/zahra/anaconda3/lib/python3.12/site-packages/sklearn/linear_model/_sag.py:349: ConvergenceWarning: The max_iter was reached which means the coef_ did not converge\n",
      "  warnings.warn(\n",
      "/home/zahra/anaconda3/lib/python3.12/site-packages/sklearn/linear_model/_sag.py:349: ConvergenceWarning: The max_iter was reached which means the coef_ did not converge\n",
      "  warnings.warn(\n",
      "/home/zahra/anaconda3/lib/python3.12/site-packages/sklearn/linear_model/_sag.py:349: ConvergenceWarning: The max_iter was reached which means the coef_ did not converge\n",
      "  warnings.warn(\n"
     ]
    },
    {
     "name": "stdout",
     "output_type": "stream",
     "text": [
      "[CV 5/5] END m__C=0.1, m__penalty=l1, m__solver=saga, m__tol=0.0001;, score=0.495 total time=   1.0s\n",
      "[CV 4/5] END m__C=0.1, m__penalty=l1, m__solver=saga, m__tol=0.0001;, score=0.477 total time=   1.0s\n",
      "[CV 2/5] END m__C=0.1, m__penalty=l1, m__solver=saga, m__tol=0.0001;, score=0.481 total time=   1.1s\n"
     ]
    },
    {
     "name": "stderr",
     "output_type": "stream",
     "text": [
      "/home/zahra/anaconda3/lib/python3.12/site-packages/sklearn/linear_model/_sag.py:349: ConvergenceWarning: The max_iter was reached which means the coef_ did not converge\n",
      "  warnings.warn(\n"
     ]
    },
    {
     "name": "stdout",
     "output_type": "stream",
     "text": [
      "[CV 3/5] END m__C=0.1, m__penalty=l1, m__solver=saga, m__tol=0.0001;, score=0.473 total time=   1.2s\n"
     ]
    },
    {
     "name": "stderr",
     "output_type": "stream",
     "text": [
      "/home/zahra/anaconda3/lib/python3.12/site-packages/sklearn/linear_model/_sag.py:349: ConvergenceWarning: The max_iter was reached which means the coef_ did not converge\n",
      "  warnings.warn(\n"
     ]
    },
    {
     "name": "stdout",
     "output_type": "stream",
     "text": [
      "[CV 1/5] END m__C=0.1, m__penalty=l1, m__solver=saga, m__tol=0.0001;, score=0.473 total time=   2.3s\n",
      "Fitting 5 folds for each of 1 candidates, totalling 5 fits\n",
      "[CV 1/5] END m__C=0.01, m__penalty=l1, m__solver=saga, m__tol=0.01;, score=0.395 total time=   0.3s\n",
      "[CV 5/5] END m__C=0.01, m__penalty=l1, m__solver=saga, m__tol=0.01;, score=0.418 total time=   0.4s\n",
      "[CV 4/5] END m__C=0.01, m__penalty=l1, m__solver=saga, m__tol=0.01;, score=0.407 total time=   0.3s\n",
      "[CV 2/5] END m__C=0.01, m__penalty=l1, m__solver=saga, m__tol=0.01;, score=0.404 total time=   0.5s\n",
      "[CV 3/5] END m__C=0.01, m__penalty=l1, m__solver=saga, m__tol=0.01;, score=0.406 total time=   0.6s\n",
      "Fitting 5 folds for each of 1 candidates, totalling 5 fits\n",
      "[CV 3/5] END m__C=0.1, m__penalty=l1, m__solver=liblinear, m__tol=0.0001;, score=0.464 total time=   1.3s\n",
      "[CV 5/5] END m__C=0.1, m__penalty=l1, m__solver=liblinear, m__tol=0.0001;, score=0.475 total time=   1.5s\n",
      "[CV 4/5] END m__C=0.1, m__penalty=l1, m__solver=liblinear, m__tol=0.0001;, score=0.468 total time=   1.6s\n",
      "[CV 2/5] END m__C=0.1, m__penalty=l1, m__solver=liblinear, m__tol=0.0001;, score=0.468 total time=   1.7s\n",
      "[CV 1/5] END m__C=0.1, m__penalty=l1, m__solver=liblinear, m__tol=0.0001;, score=0.460 total time=   4.0s\n",
      "Fitting 5 folds for each of 1 candidates, totalling 5 fits\n"
     ]
    },
    {
     "name": "stderr",
     "output_type": "stream",
     "text": [
      "/home/zahra/anaconda3/lib/python3.12/site-packages/sklearn/linear_model/_sag.py:349: ConvergenceWarning: The max_iter was reached which means the coef_ did not converge\n",
      "  warnings.warn(\n",
      "/home/zahra/anaconda3/lib/python3.12/site-packages/sklearn/linear_model/_sag.py:349: ConvergenceWarning: The max_iter was reached which means the coef_ did not converge\n",
      "  warnings.warn(\n"
     ]
    },
    {
     "name": "stdout",
     "output_type": "stream",
     "text": [
      "[CV 5/5] END m__C=10, m__penalty=l1, m__solver=saga, m__tol=0.0001;, score=0.500 total time=   1.0s\n",
      "[CV 4/5] END m__C=10, m__penalty=l1, m__solver=saga, m__tol=0.0001;, score=0.489 total time=   1.0s\n"
     ]
    },
    {
     "name": "stderr",
     "output_type": "stream",
     "text": [
      "/home/zahra/anaconda3/lib/python3.12/site-packages/sklearn/linear_model/_sag.py:349: ConvergenceWarning: The max_iter was reached which means the coef_ did not converge\n",
      "  warnings.warn(\n",
      "/home/zahra/anaconda3/lib/python3.12/site-packages/sklearn/linear_model/_sag.py:349: ConvergenceWarning: The max_iter was reached which means the coef_ did not converge\n",
      "  warnings.warn(\n"
     ]
    },
    {
     "name": "stdout",
     "output_type": "stream",
     "text": [
      "[CV 3/5] END m__C=10, m__penalty=l1, m__solver=saga, m__tol=0.0001;, score=0.478 total time=   1.0s\n",
      "[CV 1/5] END m__C=10, m__penalty=l1, m__solver=saga, m__tol=0.0001;, score=0.486 total time=   1.0s\n"
     ]
    },
    {
     "name": "stderr",
     "output_type": "stream",
     "text": [
      "/home/zahra/anaconda3/lib/python3.12/site-packages/sklearn/linear_model/_sag.py:349: ConvergenceWarning: The max_iter was reached which means the coef_ did not converge\n",
      "  warnings.warn(\n"
     ]
    },
    {
     "name": "stdout",
     "output_type": "stream",
     "text": [
      "[CV 2/5] END m__C=10, m__penalty=l1, m__solver=saga, m__tol=0.0001;, score=0.483 total time=   1.8s\n",
      "Fitting 5 folds for each of 1 candidates, totalling 5 fits\n",
      "[CV 5/5] END m__C=1, m__penalty=l2, m__solver=liblinear, m__tol=0.01;, score=0.485 total time=   0.2s\n",
      "[CV 4/5] END m__C=1, m__penalty=l2, m__solver=liblinear, m__tol=0.01;, score=0.478 total time=   0.3s\n",
      "[CV 2/5] END m__C=1, m__penalty=l2, m__solver=liblinear, m__tol=0.01;, score=0.474 total time=   0.4s\n",
      "[CV 1/5] END m__C=1, m__penalty=l2, m__solver=liblinear, m__tol=0.01;, score=0.469 total time=   0.4s\n",
      "[CV 3/5] END m__C=1, m__penalty=l2, m__solver=liblinear, m__tol=0.01;, score=0.468 total time=   0.5s\n",
      "Fitting 5 folds for each of 1 candidates, totalling 5 fits\n"
     ]
    },
    {
     "name": "stderr",
     "output_type": "stream",
     "text": [
      "/home/zahra/anaconda3/lib/python3.12/site-packages/sklearn/linear_model/_sag.py:349: ConvergenceWarning: The max_iter was reached which means the coef_ did not converge\n",
      "  warnings.warn(\n",
      "/home/zahra/anaconda3/lib/python3.12/site-packages/sklearn/linear_model/_sag.py:349: ConvergenceWarning: The max_iter was reached which means the coef_ did not converge\n",
      "  warnings.warn(\n",
      "/home/zahra/anaconda3/lib/python3.12/site-packages/sklearn/linear_model/_sag.py:349: ConvergenceWarning: The max_iter was reached which means the coef_ did not converge\n",
      "  warnings.warn(\n"
     ]
    },
    {
     "name": "stdout",
     "output_type": "stream",
     "text": [
      "[CV 2/5] END m__C=1, m__penalty=l1, m__solver=saga, m__tol=0.0001;, score=0.482 total time=   0.9s\n",
      "[CV 3/5] END m__C=1, m__penalty=l1, m__solver=saga, m__tol=0.0001;, score=0.476 total time=   0.9s\n",
      "[CV 4/5] END m__C=1, m__penalty=l1, m__solver=saga, m__tol=0.0001;, score=0.489 total time=   0.9s\n"
     ]
    },
    {
     "name": "stderr",
     "output_type": "stream",
     "text": [
      "/home/zahra/anaconda3/lib/python3.12/site-packages/sklearn/linear_model/_sag.py:349: ConvergenceWarning: The max_iter was reached which means the coef_ did not converge\n",
      "  warnings.warn(\n"
     ]
    },
    {
     "name": "stdout",
     "output_type": "stream",
     "text": [
      "[CV 1/5] END m__C=1, m__penalty=l1, m__solver=saga, m__tol=0.0001;, score=0.485 total time=   1.4s\n"
     ]
    },
    {
     "name": "stderr",
     "output_type": "stream",
     "text": [
      "/home/zahra/anaconda3/lib/python3.12/site-packages/sklearn/linear_model/_sag.py:349: ConvergenceWarning: The max_iter was reached which means the coef_ did not converge\n",
      "  warnings.warn(\n"
     ]
    },
    {
     "name": "stdout",
     "output_type": "stream",
     "text": [
      "[CV 5/5] END m__C=1, m__penalty=l1, m__solver=saga, m__tol=0.0001;, score=0.501 total time=   1.6s\n",
      "Fitting 5 folds for each of 1 candidates, totalling 5 fits\n",
      "[CV 4/5] END m__C=1, m__penalty=l2, m__solver=liblinear, m__tol=0.01;, score=0.478 total time=   0.3s\n",
      "[CV 3/5] END m__C=1, m__penalty=l2, m__solver=liblinear, m__tol=0.01;, score=0.468 total time=   0.3s\n",
      "[CV 2/5] END m__C=1, m__penalty=l2, m__solver=liblinear, m__tol=0.01;, score=0.474 total time=   0.4s\n",
      "[CV 1/5] END m__C=1, m__penalty=l2, m__solver=liblinear, m__tol=0.01;, score=0.469 total time=   0.5s\n",
      "[CV 5/5] END m__C=1, m__penalty=l2, m__solver=liblinear, m__tol=0.01;, score=0.485 total time=   0.5s\n",
      "Fitting 5 folds for each of 1 candidates, totalling 5 fits\n",
      "[CV 4/5] END m__C=1, m__penalty=l1, m__solver=liblinear, m__tol=0.01;, score=0.478 total time=   0.3s\n",
      "[CV 1/5] END m__C=1, m__penalty=l1, m__solver=liblinear, m__tol=0.01;, score=0.472 total time=   0.3s\n",
      "[CV 3/5] END m__C=1, m__penalty=l1, m__solver=liblinear, m__tol=0.01;, score=0.466 total time=   0.5s\n",
      "[CV 5/5] END m__C=1, m__penalty=l1, m__solver=liblinear, m__tol=0.01;, score=0.486 total time=   0.5s\n",
      "[CV 2/5] END m__C=1, m__penalty=l1, m__solver=liblinear, m__tol=0.01;, score=0.474 total time=   0.5s\n",
      "Fitting 5 folds for each of 1 candidates, totalling 5 fits\n",
      "[CV 3/5] END m__C=0.01, m__penalty=l1, m__solver=liblinear, m__tol=0.001;, score=0.370 total time=   0.1s\n",
      "[CV 5/5] END m__C=0.01, m__penalty=l1, m__solver=liblinear, m__tol=0.001;, score=0.372 total time=   0.1s\n",
      "[CV 1/5] END m__C=0.01, m__penalty=l1, m__solver=liblinear, m__tol=0.001;, score=0.357 total time=   0.1s\n",
      "[CV 4/5] END m__C=0.01, m__penalty=l1, m__solver=liblinear, m__tol=0.001;, score=0.373 total time=   0.1s\n",
      "[CV 2/5] END m__C=0.01, m__penalty=l1, m__solver=liblinear, m__tol=0.001;, score=0.370 total time=   0.1s\n",
      "Fitting 5 folds for each of 1 candidates, totalling 5 fits\n",
      "[CV 1/5] END m__C=10, m__penalty=l1, m__solver=saga, m__tol=0.01;, score=0.474 total time=   0.4s\n",
      "[CV 2/5] END m__C=10, m__penalty=l1, m__solver=saga, m__tol=0.01;, score=0.477 total time=   0.5s\n",
      "[CV 3/5] END m__C=10, m__penalty=l1, m__solver=saga, m__tol=0.01;, score=0.473 total time=   0.7s\n",
      "[CV 5/5] END m__C=10, m__penalty=l1, m__solver=saga, m__tol=0.01;, score=0.495 total time=   0.9s\n",
      "[CV 4/5] END m__C=10, m__penalty=l1, m__solver=saga, m__tol=0.01;, score=0.478 total time=   1.0s\n",
      "Fitting 5 folds for each of 1 candidates, totalling 5 fits\n",
      "[CV 5/5] END m__C=0.1, m__penalty=l1, m__solver=saga, m__tol=0.01;, score=0.490 total time=   0.3s\n",
      "[CV 1/5] END m__C=0.1, m__penalty=l1, m__solver=saga, m__tol=0.01;, score=0.466 total time=   0.3s\n",
      "[CV 2/5] END m__C=0.1, m__penalty=l1, m__solver=saga, m__tol=0.01;, score=0.472 total time=   0.3s\n",
      "[CV 3/5] END m__C=0.1, m__penalty=l1, m__solver=saga, m__tol=0.01;, score=0.469 total time=   0.5s\n",
      "[CV 4/5] END m__C=0.1, m__penalty=l1, m__solver=saga, m__tol=0.01;, score=0.472 total time=   0.6s\n",
      "Fitting 5 folds for each of 1 candidates, totalling 5 fits\n"
     ]
    },
    {
     "name": "stderr",
     "output_type": "stream",
     "text": [
      "/home/zahra/anaconda3/lib/python3.12/site-packages/sklearn/linear_model/_sag.py:349: ConvergenceWarning: The max_iter was reached which means the coef_ did not converge\n",
      "  warnings.warn(\n",
      "/home/zahra/anaconda3/lib/python3.12/site-packages/sklearn/linear_model/_sag.py:349: ConvergenceWarning: The max_iter was reached which means the coef_ did not converge\n",
      "  warnings.warn(\n",
      "/home/zahra/anaconda3/lib/python3.12/site-packages/sklearn/linear_model/_sag.py:349: ConvergenceWarning: The max_iter was reached which means the coef_ did not converge\n",
      "  warnings.warn(\n"
     ]
    },
    {
     "name": "stdout",
     "output_type": "stream",
     "text": [
      "[CV 3/5] END m__C=10, m__penalty=l1, m__solver=saga, m__tol=0.001;, score=0.478 total time=   0.8s\n",
      "[CV 2/5] END m__C=10, m__penalty=l1, m__solver=saga, m__tol=0.001;, score=0.483 total time=   0.8s\n",
      "[CV 4/5] END m__C=10, m__penalty=l1, m__solver=saga, m__tol=0.001;, score=0.489 total time=   0.8s\n"
     ]
    },
    {
     "name": "stderr",
     "output_type": "stream",
     "text": [
      "/home/zahra/anaconda3/lib/python3.12/site-packages/sklearn/linear_model/_sag.py:349: ConvergenceWarning: The max_iter was reached which means the coef_ did not converge\n",
      "  warnings.warn(\n"
     ]
    },
    {
     "name": "stdout",
     "output_type": "stream",
     "text": [
      "[CV 5/5] END m__C=10, m__penalty=l1, m__solver=saga, m__tol=0.001;, score=0.501 total time=   1.2s\n"
     ]
    },
    {
     "name": "stderr",
     "output_type": "stream",
     "text": [
      "/home/zahra/anaconda3/lib/python3.12/site-packages/sklearn/linear_model/_sag.py:349: ConvergenceWarning: The max_iter was reached which means the coef_ did not converge\n",
      "  warnings.warn(\n"
     ]
    },
    {
     "name": "stdout",
     "output_type": "stream",
     "text": [
      "[CV 1/5] END m__C=10, m__penalty=l1, m__solver=saga, m__tol=0.001;, score=0.486 total time=   1.4s\n",
      "Fitting 5 folds for each of 1 candidates, totalling 5 fits\n",
      "[CV 5/5] END m__C=0.01, m__penalty=l2, m__solver=liblinear, m__tol=0.01;, score=0.450 total time=   0.1s\n",
      "[CV 4/5] END m__C=0.01, m__penalty=l2, m__solver=liblinear, m__tol=0.01;, score=0.440 total time=   0.1s\n",
      "[CV 1/5] END m__C=0.01, m__penalty=l2, m__solver=liblinear, m__tol=0.01;, score=0.429 total time=   0.3s\n",
      "[CV 2/5] END m__C=0.01, m__penalty=l2, m__solver=liblinear, m__tol=0.01;, score=0.441 total time=   0.3s\n",
      "[CV 3/5] END m__C=0.01, m__penalty=l2, m__solver=liblinear, m__tol=0.01;, score=0.443 total time=   0.3s\n",
      "Fitting 5 folds for each of 1 candidates, totalling 5 fits\n"
     ]
    },
    {
     "name": "stderr",
     "output_type": "stream",
     "text": [
      "/home/zahra/anaconda3/lib/python3.12/site-packages/sklearn/linear_model/_sag.py:349: ConvergenceWarning: The max_iter was reached which means the coef_ did not converge\n",
      "  warnings.warn(\n",
      "/home/zahra/anaconda3/lib/python3.12/site-packages/sklearn/linear_model/_sag.py:349: ConvergenceWarning: The max_iter was reached which means the coef_ did not converge\n",
      "  warnings.warn(\n",
      "/home/zahra/anaconda3/lib/python3.12/site-packages/sklearn/linear_model/_sag.py:349: ConvergenceWarning: The max_iter was reached which means the coef_ did not converge\n",
      "  warnings.warn(\n"
     ]
    },
    {
     "name": "stdout",
     "output_type": "stream",
     "text": [
      "[CV 3/5] END m__C=0.1, m__penalty=l2, m__solver=saga, m__tol=0.0001;, score=0.475 total time=   0.7s\n",
      "[CV 4/5] END m__C=0.1, m__penalty=l2, m__solver=saga, m__tol=0.0001;, score=0.484 total time=   0.7s\n",
      "[CV 2/5] END m__C=0.1, m__penalty=l2, m__solver=saga, m__tol=0.0001;, score=0.481 total time=   0.7s\n"
     ]
    },
    {
     "name": "stderr",
     "output_type": "stream",
     "text": [
      "/home/zahra/anaconda3/lib/python3.12/site-packages/sklearn/linear_model/_sag.py:349: ConvergenceWarning: The max_iter was reached which means the coef_ did not converge\n",
      "  warnings.warn(\n",
      "/home/zahra/anaconda3/lib/python3.12/site-packages/sklearn/linear_model/_sag.py:349: ConvergenceWarning: The max_iter was reached which means the coef_ did not converge\n",
      "  warnings.warn(\n"
     ]
    },
    {
     "name": "stdout",
     "output_type": "stream",
     "text": [
      "[CV 5/5] END m__C=0.1, m__penalty=l2, m__solver=saga, m__tol=0.0001;, score=0.500 total time=   1.2s\n",
      "[CV 1/5] END m__C=0.1, m__penalty=l2, m__solver=saga, m__tol=0.0001;, score=0.480 total time=   1.2s\n",
      "Fitting 5 folds for each of 1 candidates, totalling 5 fits\n",
      "[CV 1/5] END m__C=10, m__penalty=l2, m__solver=saga, m__tol=0.01;, score=0.473 total time=   0.2s\n",
      "[CV 2/5] END m__C=10, m__penalty=l2, m__solver=saga, m__tol=0.01;, score=0.476 total time=   0.4s\n",
      "[CV 5/5] END m__C=10, m__penalty=l2, m__solver=saga, m__tol=0.01;, score=0.495 total time=   0.4s\n",
      "[CV 3/5] END m__C=10, m__penalty=l2, m__solver=saga, m__tol=0.01;, score=0.473 total time=   0.5s\n",
      "[CV 4/5] END m__C=10, m__penalty=l2, m__solver=saga, m__tol=0.01;, score=0.478 total time=   0.5s\n",
      "Fitting 5 folds for each of 1 candidates, totalling 5 fits\n"
     ]
    },
    {
     "name": "stderr",
     "output_type": "stream",
     "text": [
      "/home/zahra/anaconda3/lib/python3.12/site-packages/sklearn/linear_model/_sag.py:349: ConvergenceWarning: The max_iter was reached which means the coef_ did not converge\n",
      "  warnings.warn(\n",
      "/home/zahra/anaconda3/lib/python3.12/site-packages/sklearn/linear_model/_sag.py:349: ConvergenceWarning: The max_iter was reached which means the coef_ did not converge\n",
      "  warnings.warn(\n"
     ]
    },
    {
     "name": "stdout",
     "output_type": "stream",
     "text": [
      "[CV 3/5] END m__C=10, m__penalty=l2, m__solver=saga, m__tol=0.001;, score=0.479 total time=   0.6s\n",
      "[CV 1/5] END m__C=10, m__penalty=l2, m__solver=saga, m__tol=0.001;, score=0.486 total time=   0.7s\n"
     ]
    },
    {
     "name": "stderr",
     "output_type": "stream",
     "text": [
      "/home/zahra/anaconda3/lib/python3.12/site-packages/sklearn/linear_model/_sag.py:349: ConvergenceWarning: The max_iter was reached which means the coef_ did not converge\n",
      "  warnings.warn(\n",
      "/home/zahra/anaconda3/lib/python3.12/site-packages/sklearn/linear_model/_sag.py:349: ConvergenceWarning: The max_iter was reached which means the coef_ did not converge\n",
      "  warnings.warn(\n"
     ]
    },
    {
     "name": "stdout",
     "output_type": "stream",
     "text": [
      "[CV 4/5] END m__C=10, m__penalty=l2, m__solver=saga, m__tol=0.001;, score=0.489 total time=   0.9s\n",
      "[CV 2/5] END m__C=10, m__penalty=l2, m__solver=saga, m__tol=0.001;, score=0.483 total time=   1.0s\n"
     ]
    },
    {
     "name": "stderr",
     "output_type": "stream",
     "text": [
      "/home/zahra/anaconda3/lib/python3.12/site-packages/sklearn/linear_model/_sag.py:349: ConvergenceWarning: The max_iter was reached which means the coef_ did not converge\n",
      "  warnings.warn(\n"
     ]
    },
    {
     "name": "stdout",
     "output_type": "stream",
     "text": [
      "[CV 5/5] END m__C=10, m__penalty=l2, m__solver=saga, m__tol=0.001;, score=0.500 total time=   1.1s\n",
      "Fitting 5 folds for each of 1 candidates, totalling 5 fits\n"
     ]
    },
    {
     "name": "stderr",
     "output_type": "stream",
     "text": [
      "/home/zahra/anaconda3/lib/python3.12/site-packages/sklearn/linear_model/_sag.py:349: ConvergenceWarning: The max_iter was reached which means the coef_ did not converge\n",
      "  warnings.warn(\n"
     ]
    },
    {
     "name": "stdout",
     "output_type": "stream",
     "text": [
      "[CV 1/5] END m__C=10, m__penalty=l2, m__solver=saga, m__tol=0.0001;, score=0.486 total time=   0.6s\n"
     ]
    },
    {
     "name": "stderr",
     "output_type": "stream",
     "text": [
      "/home/zahra/anaconda3/lib/python3.12/site-packages/sklearn/linear_model/_sag.py:349: ConvergenceWarning: The max_iter was reached which means the coef_ did not converge\n",
      "  warnings.warn(\n",
      "/home/zahra/anaconda3/lib/python3.12/site-packages/sklearn/linear_model/_sag.py:349: ConvergenceWarning: The max_iter was reached which means the coef_ did not converge\n",
      "  warnings.warn(\n"
     ]
    },
    {
     "name": "stdout",
     "output_type": "stream",
     "text": [
      "[CV 2/5] END m__C=10, m__penalty=l2, m__solver=saga, m__tol=0.0001;, score=0.483 total time=   1.0s\n",
      "[CV 5/5] END m__C=10, m__penalty=l2, m__solver=saga, m__tol=0.0001;, score=0.500 total time=   1.1s\n"
     ]
    },
    {
     "name": "stderr",
     "output_type": "stream",
     "text": [
      "/home/zahra/anaconda3/lib/python3.12/site-packages/sklearn/linear_model/_sag.py:349: ConvergenceWarning: The max_iter was reached which means the coef_ did not converge\n",
      "  warnings.warn(\n",
      "/home/zahra/anaconda3/lib/python3.12/site-packages/sklearn/linear_model/_sag.py:349: ConvergenceWarning: The max_iter was reached which means the coef_ did not converge\n",
      "  warnings.warn(\n"
     ]
    },
    {
     "name": "stdout",
     "output_type": "stream",
     "text": [
      "[CV 3/5] END m__C=10, m__penalty=l2, m__solver=saga, m__tol=0.0001;, score=0.479 total time=   1.3s\n",
      "[CV 4/5] END m__C=10, m__penalty=l2, m__solver=saga, m__tol=0.0001;, score=0.489 total time=   1.3s\n",
      "Fitting 5 folds for each of 1 candidates, totalling 5 fits\n"
     ]
    },
    {
     "name": "stderr",
     "output_type": "stream",
     "text": [
      "/home/zahra/anaconda3/lib/python3.12/site-packages/sklearn/linear_model/_sag.py:349: ConvergenceWarning: The max_iter was reached which means the coef_ did not converge\n",
      "  warnings.warn(\n",
      "/home/zahra/anaconda3/lib/python3.12/site-packages/sklearn/linear_model/_sag.py:349: ConvergenceWarning: The max_iter was reached which means the coef_ did not converge\n",
      "  warnings.warn(\n"
     ]
    },
    {
     "name": "stdout",
     "output_type": "stream",
     "text": [
      "[CV 4/5] END m__C=0.01, m__penalty=l2, m__solver=saga, m__tol=0.0001;, score=0.465 total time=   0.7s\n",
      "[CV 3/5] END m__C=0.01, m__penalty=l2, m__solver=saga, m__tol=0.0001;, score=0.467 total time=   0.7s\n"
     ]
    },
    {
     "name": "stderr",
     "output_type": "stream",
     "text": [
      "/home/zahra/anaconda3/lib/python3.12/site-packages/sklearn/linear_model/_sag.py:349: ConvergenceWarning: The max_iter was reached which means the coef_ did not converge\n",
      "  warnings.warn(\n"
     ]
    },
    {
     "name": "stdout",
     "output_type": "stream",
     "text": [
      "[CV 1/5] END m__C=0.01, m__penalty=l2, m__solver=saga, m__tol=0.0001;, score=0.453 total time=   1.0s\n",
      "[CV 5/5] END m__C=0.01, m__penalty=l2, m__solver=saga, m__tol=0.0001;, score=0.478 total time=   1.3s\n",
      "[CV 2/5] END m__C=0.01, m__penalty=l2, m__solver=saga, m__tol=0.0001;, score=0.459 total time=   1.4s\n"
     ]
    },
    {
     "name": "stderr",
     "output_type": "stream",
     "text": [
      "/home/zahra/anaconda3/lib/python3.12/site-packages/sklearn/linear_model/_sag.py:349: ConvergenceWarning: The max_iter was reached which means the coef_ did not converge\n",
      "  warnings.warn(\n"
     ]
    },
    {
     "name": "stdout",
     "output_type": "stream",
     "text": [
      "Fitting 5 folds for each of 1 candidates, totalling 5 fits\n",
      "[CV 5/5] END m__C=10, m__penalty=l2, m__solver=liblinear, m__tol=0.0001;, score=0.483 total time=   0.4s\n",
      "[CV 4/5] END m__C=10, m__penalty=l2, m__solver=liblinear, m__tol=0.0001;, score=0.479 total time=   0.7s\n",
      "[CV 2/5] END m__C=10, m__penalty=l2, m__solver=liblinear, m__tol=0.0001;, score=0.474 total time=   0.9s\n",
      "[CV 3/5] END m__C=10, m__penalty=l2, m__solver=liblinear, m__tol=0.0001;, score=0.469 total time=   1.1s\n",
      "[CV 1/5] END m__C=10, m__penalty=l2, m__solver=liblinear, m__tol=0.0001;, score=0.470 total time=   1.1s\n",
      "Fitting 5 folds for each of 1 candidates, totalling 5 fits\n",
      "[CV 4/5] END m__C=0.01, m__penalty=l1, m__solver=liblinear, m__tol=0.0001;, score=0.373 total time=   0.1s\n",
      "[CV 3/5] END m__C=0.01, m__penalty=l1, m__solver=liblinear, m__tol=0.0001;, score=0.370 total time=   0.1s\n",
      "[CV 5/5] END m__C=0.01, m__penalty=l1, m__solver=liblinear, m__tol=0.0001;, score=0.373 total time=   0.2s\n",
      "[CV 1/5] END m__C=0.01, m__penalty=l1, m__solver=liblinear, m__tol=0.0001;, score=0.357 total time=   0.2s\n",
      "[CV 2/5] END m__C=0.01, m__penalty=l1, m__solver=liblinear, m__tol=0.0001;, score=0.370 total time=   0.2s\n",
      "Fitting 5 folds for each of 1 candidates, totalling 5 fits\n"
     ]
    },
    {
     "name": "stderr",
     "output_type": "stream",
     "text": [
      "/home/zahra/anaconda3/lib/python3.12/site-packages/sklearn/linear_model/_sag.py:349: ConvergenceWarning: The max_iter was reached which means the coef_ did not converge\n",
      "  warnings.warn(\n"
     ]
    },
    {
     "name": "stdout",
     "output_type": "stream",
     "text": [
      "[CV 1/5] END m__C=1, m__penalty=l2, m__solver=saga, m__tol=0.001;, score=0.487 total time=   0.8s\n"
     ]
    },
    {
     "name": "stderr",
     "output_type": "stream",
     "text": [
      "/home/zahra/anaconda3/lib/python3.12/site-packages/sklearn/linear_model/_sag.py:349: ConvergenceWarning: The max_iter was reached which means the coef_ did not converge\n",
      "  warnings.warn(\n",
      "/home/zahra/anaconda3/lib/python3.12/site-packages/sklearn/linear_model/_sag.py:349: ConvergenceWarning: The max_iter was reached which means the coef_ did not converge\n",
      "  warnings.warn(\n"
     ]
    },
    {
     "name": "stdout",
     "output_type": "stream",
     "text": [
      "[CV 5/5] END m__C=1, m__penalty=l2, m__solver=saga, m__tol=0.001;, score=0.500 total time=   1.1s\n",
      "[CV 2/5] END m__C=1, m__penalty=l2, m__solver=saga, m__tol=0.001;, score=0.483 total time=   1.3s\n"
     ]
    },
    {
     "name": "stderr",
     "output_type": "stream",
     "text": [
      "/home/zahra/anaconda3/lib/python3.12/site-packages/sklearn/linear_model/_sag.py:349: ConvergenceWarning: The max_iter was reached which means the coef_ did not converge\n",
      "  warnings.warn(\n",
      "/home/zahra/anaconda3/lib/python3.12/site-packages/sklearn/linear_model/_sag.py:349: ConvergenceWarning: The max_iter was reached which means the coef_ did not converge\n",
      "  warnings.warn(\n"
     ]
    },
    {
     "name": "stdout",
     "output_type": "stream",
     "text": [
      "[CV 3/5] END m__C=1, m__penalty=l2, m__solver=saga, m__tol=0.001;, score=0.477 total time=   1.4s\n",
      "[CV 4/5] END m__C=1, m__penalty=l2, m__solver=saga, m__tol=0.001;, score=0.489 total time=   1.5s\n",
      "Fitting 5 folds for each of 1 candidates, totalling 5 fits\n",
      "[CV 4/5] END m__C=0.01, m__penalty=l2, m__solver=saga, m__tol=0.01;, score=0.459 total time=   0.2s\n",
      "[CV 1/5] END m__C=0.01, m__penalty=l2, m__solver=saga, m__tol=0.01;, score=0.447 total time=   0.3s\n",
      "[CV 5/5] END m__C=0.01, m__penalty=l2, m__solver=saga, m__tol=0.01;, score=0.473 total time=   0.3s\n",
      "[CV 3/5] END m__C=0.01, m__penalty=l2, m__solver=saga, m__tol=0.01;, score=0.463 total time=   0.3s\n",
      "[CV 2/5] END m__C=0.01, m__penalty=l2, m__solver=saga, m__tol=0.01;, score=0.454 total time=   0.3s\n",
      "Fitting 5 folds for each of 1 candidates, totalling 5 fits\n",
      "[CV 1/5] END m__C=0.1, m__penalty=l2, m__solver=liblinear, m__tol=0.01;, score=0.463 total time=   0.2s\n",
      "[CV 3/5] END m__C=0.1, m__penalty=l2, m__solver=liblinear, m__tol=0.01;, score=0.464 total time=   0.2s\n",
      "[CV 2/5] END m__C=0.1, m__penalty=l2, m__solver=liblinear, m__tol=0.01;, score=0.470 total time=   0.3s\n",
      "[CV 4/5] END m__C=0.1, m__penalty=l2, m__solver=liblinear, m__tol=0.01;, score=0.470 total time=   0.3s\n",
      "[CV 5/5] END m__C=0.1, m__penalty=l2, m__solver=liblinear, m__tol=0.01;, score=0.483 total time=   0.3s\n",
      "Fitting 5 folds for each of 1 candidates, totalling 5 fits\n",
      "[CV 2/5] END m__C=10, m__penalty=l1, m__solver=liblinear, m__tol=0.001;, score=0.475 total time=   1.5s\n",
      "[CV 1/5] END m__C=10, m__penalty=l1, m__solver=liblinear, m__tol=0.001;, score=0.469 total time=   1.5s\n",
      "[CV 5/5] END m__C=10, m__penalty=l1, m__solver=liblinear, m__tol=0.001;, score=0.481 total time=   2.1s\n",
      "[CV 4/5] END m__C=10, m__penalty=l1, m__solver=liblinear, m__tol=0.001;, score=0.480 total time=   2.4s\n",
      "[CV 3/5] END m__C=10, m__penalty=l1, m__solver=liblinear, m__tol=0.001;, score=0.468 total time=   3.2s\n",
      "Fitting 5 folds for each of 1 candidates, totalling 5 fits\n",
      "[CV 3/5] END m__C=0.01, m__penalty=l2, m__solver=liblinear, m__tol=0.0001;, score=0.442 total time=   0.2s\n",
      "[CV 4/5] END m__C=0.01, m__penalty=l2, m__solver=liblinear, m__tol=0.0001;, score=0.440 total time=   0.3s\n",
      "[CV 1/5] END m__C=0.01, m__penalty=l2, m__solver=liblinear, m__tol=0.0001;, score=0.429 total time=   0.4s\n",
      "[CV 5/5] END m__C=0.01, m__penalty=l2, m__solver=liblinear, m__tol=0.0001;, score=0.450 total time=   0.4s\n",
      "[CV 2/5] END m__C=0.01, m__penalty=l2, m__solver=liblinear, m__tol=0.0001;, score=0.441 total time=   0.4s\n",
      "Fitting 5 folds for each of 1 candidates, totalling 5 fits\n"
     ]
    },
    {
     "name": "stderr",
     "output_type": "stream",
     "text": [
      "/home/zahra/anaconda3/lib/python3.12/site-packages/sklearn/linear_model/_sag.py:349: ConvergenceWarning: The max_iter was reached which means the coef_ did not converge\n",
      "  warnings.warn(\n",
      "/home/zahra/anaconda3/lib/python3.12/site-packages/sklearn/linear_model/_sag.py:349: ConvergenceWarning: The max_iter was reached which means the coef_ did not converge\n",
      "  warnings.warn(\n"
     ]
    },
    {
     "name": "stdout",
     "output_type": "stream",
     "text": [
      "[CV 1/5] END m__C=0.01, m__penalty=l1, m__solver=saga, m__tol=0.0001;, score=0.405 total time=   0.8s\n",
      "[CV 4/5] END m__C=0.01, m__penalty=l1, m__solver=saga, m__tol=0.0001;, score=0.411 total time=   0.8s\n"
     ]
    },
    {
     "name": "stderr",
     "output_type": "stream",
     "text": [
      "/home/zahra/anaconda3/lib/python3.12/site-packages/sklearn/linear_model/_sag.py:349: ConvergenceWarning: The max_iter was reached which means the coef_ did not converge\n",
      "  warnings.warn(\n",
      "/home/zahra/anaconda3/lib/python3.12/site-packages/sklearn/linear_model/_sag.py:349: ConvergenceWarning: The max_iter was reached which means the coef_ did not converge\n",
      "  warnings.warn(\n"
     ]
    },
    {
     "name": "stdout",
     "output_type": "stream",
     "text": [
      "[CV 5/5] END m__C=0.01, m__penalty=l1, m__solver=saga, m__tol=0.0001;, score=0.419 total time=   1.1s\n",
      "[CV 3/5] END m__C=0.01, m__penalty=l1, m__solver=saga, m__tol=0.0001;, score=0.413 total time=   1.2s\n"
     ]
    },
    {
     "name": "stderr",
     "output_type": "stream",
     "text": [
      "/home/zahra/anaconda3/lib/python3.12/site-packages/sklearn/linear_model/_sag.py:349: ConvergenceWarning: The max_iter was reached which means the coef_ did not converge\n",
      "  warnings.warn(\n"
     ]
    },
    {
     "name": "stdout",
     "output_type": "stream",
     "text": [
      "[CV 2/5] END m__C=0.01, m__penalty=l1, m__solver=saga, m__tol=0.0001;, score=0.415 total time=   1.6s\n",
      "Fitting 5 folds for each of 1 candidates, totalling 5 fits\n",
      "[CV 3/5] END m__C=0.1, m__penalty=l2, m__solver=saga, m__tol=0.01;, score=0.472 total time=   0.2s\n",
      "[CV 2/5] END m__C=0.1, m__penalty=l2, m__solver=saga, m__tol=0.01;, score=0.474 total time=   0.4s\n",
      "[CV 4/5] END m__C=0.1, m__penalty=l2, m__solver=saga, m__tol=0.01;, score=0.477 total time=   0.4s\n",
      "[CV 5/5] END m__C=0.1, m__penalty=l2, m__solver=saga, m__tol=0.01;, score=0.492 total time=   0.5s\n",
      "[CV 1/5] END m__C=0.1, m__penalty=l2, m__solver=saga, m__tol=0.01;, score=0.469 total time=   0.5s\n",
      "Fitting 5 folds for each of 1 candidates, totalling 5 fits\n"
     ]
    },
    {
     "name": "stderr",
     "output_type": "stream",
     "text": [
      "/home/zahra/anaconda3/lib/python3.12/site-packages/sklearn/linear_model/_sag.py:349: ConvergenceWarning: The max_iter was reached which means the coef_ did not converge\n",
      "  warnings.warn(\n",
      "/home/zahra/anaconda3/lib/python3.12/site-packages/sklearn/linear_model/_sag.py:349: ConvergenceWarning: The max_iter was reached which means the coef_ did not converge\n",
      "  warnings.warn(\n",
      "/home/zahra/anaconda3/lib/python3.12/site-packages/sklearn/linear_model/_sag.py:349: ConvergenceWarning: The max_iter was reached which means the coef_ did not converge\n",
      "  warnings.warn(\n"
     ]
    },
    {
     "name": "stdout",
     "output_type": "stream",
     "text": [
      "[CV 5/5] END m__C=0.1, m__penalty=l2, m__solver=saga, m__tol=0.001;, score=0.500 total time=   0.6s\n",
      "[CV 4/5] END m__C=0.1, m__penalty=l2, m__solver=saga, m__tol=0.001;, score=0.484 total time=   0.6s\n",
      "[CV 3/5] END m__C=0.1, m__penalty=l2, m__solver=saga, m__tol=0.001;, score=0.475 total time=   0.7s\n"
     ]
    },
    {
     "name": "stderr",
     "output_type": "stream",
     "text": [
      "/home/zahra/anaconda3/lib/python3.12/site-packages/sklearn/linear_model/_sag.py:349: ConvergenceWarning: The max_iter was reached which means the coef_ did not converge\n",
      "  warnings.warn(\n",
      "/home/zahra/anaconda3/lib/python3.12/site-packages/sklearn/linear_model/_sag.py:349: ConvergenceWarning: The max_iter was reached which means the coef_ did not converge\n",
      "  warnings.warn(\n"
     ]
    },
    {
     "name": "stdout",
     "output_type": "stream",
     "text": [
      "[CV 2/5] END m__C=0.1, m__penalty=l2, m__solver=saga, m__tol=0.001;, score=0.481 total time=   1.0s\n",
      "[CV 1/5] END m__C=0.1, m__penalty=l2, m__solver=saga, m__tol=0.001;, score=0.480 total time=   1.0s\n",
      "Fitting 5 folds for each of 1 candidates, totalling 5 fits\n",
      "[CV 4/5] END m__C=10, m__penalty=l1, m__solver=liblinear, m__tol=0.01;, score=0.479 total time=   0.2s\n",
      "[CV 2/5] END m__C=10, m__penalty=l1, m__solver=liblinear, m__tol=0.01;, score=0.474 total time=   0.3s\n",
      "[CV 1/5] END m__C=10, m__penalty=l1, m__solver=liblinear, m__tol=0.01;, score=0.471 total time=   0.4s\n",
      "[CV 5/5] END m__C=10, m__penalty=l1, m__solver=liblinear, m__tol=0.01;, score=0.484 total time=   0.4s\n",
      "[CV 3/5] END m__C=10, m__penalty=l1, m__solver=liblinear, m__tol=0.01;, score=0.468 total time=   0.5s\n",
      "Fitting 5 folds for each of 1 candidates, totalling 5 fits\n"
     ]
    },
    {
     "name": "stderr",
     "output_type": "stream",
     "text": [
      "/home/zahra/anaconda3/lib/python3.12/site-packages/sklearn/linear_model/_sag.py:349: ConvergenceWarning: The max_iter was reached which means the coef_ did not converge\n",
      "  warnings.warn(\n",
      "/home/zahra/anaconda3/lib/python3.12/site-packages/sklearn/linear_model/_sag.py:349: ConvergenceWarning: The max_iter was reached which means the coef_ did not converge\n",
      "  warnings.warn(\n"
     ]
    },
    {
     "name": "stdout",
     "output_type": "stream",
     "text": [
      "[CV 3/5] END m__C=10, m__penalty=l1, m__solver=saga, m__tol=0.0001;, score=0.478 total time=   1.0s\n",
      "[CV 4/5] END m__C=10, m__penalty=l1, m__solver=saga, m__tol=0.0001;, score=0.489 total time=   1.0s\n"
     ]
    },
    {
     "name": "stderr",
     "output_type": "stream",
     "text": [
      "/home/zahra/anaconda3/lib/python3.12/site-packages/sklearn/linear_model/_sag.py:349: ConvergenceWarning: The max_iter was reached which means the coef_ did not converge\n",
      "  warnings.warn(\n"
     ]
    },
    {
     "name": "stdout",
     "output_type": "stream",
     "text": [
      "[CV 1/5] END m__C=10, m__penalty=l1, m__solver=saga, m__tol=0.0001;, score=0.486 total time=   1.5s\n"
     ]
    },
    {
     "name": "stderr",
     "output_type": "stream",
     "text": [
      "/home/zahra/anaconda3/lib/python3.12/site-packages/sklearn/linear_model/_sag.py:349: ConvergenceWarning: The max_iter was reached which means the coef_ did not converge\n",
      "  warnings.warn(\n",
      "/home/zahra/anaconda3/lib/python3.12/site-packages/sklearn/linear_model/_sag.py:349: ConvergenceWarning: The max_iter was reached which means the coef_ did not converge\n",
      "  warnings.warn(\n"
     ]
    },
    {
     "name": "stdout",
     "output_type": "stream",
     "text": [
      "[CV 5/5] END m__C=10, m__penalty=l1, m__solver=saga, m__tol=0.0001;, score=0.500 total time=   1.9s\n",
      "[CV 2/5] END m__C=10, m__penalty=l1, m__solver=saga, m__tol=0.0001;, score=0.483 total time=   1.9s\n",
      "Fitting 5 folds for each of 1 candidates, totalling 5 fits\n"
     ]
    },
    {
     "name": "stderr",
     "output_type": "stream",
     "text": [
      "/home/zahra/anaconda3/lib/python3.12/site-packages/sklearn/linear_model/_sag.py:349: ConvergenceWarning: The max_iter was reached which means the coef_ did not converge\n",
      "  warnings.warn(\n",
      "/home/zahra/anaconda3/lib/python3.12/site-packages/sklearn/linear_model/_sag.py:349: ConvergenceWarning: The max_iter was reached which means the coef_ did not converge\n",
      "  warnings.warn(\n"
     ]
    },
    {
     "name": "stdout",
     "output_type": "stream",
     "text": [
      "[CV 2/5] END m__C=0.1, m__penalty=l2, m__solver=saga, m__tol=0.001;, score=0.481 total time=   0.6s\n",
      "[CV 1/5] END m__C=0.1, m__penalty=l2, m__solver=saga, m__tol=0.001;, score=0.480 total time=   0.6s\n"
     ]
    },
    {
     "name": "stderr",
     "output_type": "stream",
     "text": [
      "/home/zahra/anaconda3/lib/python3.12/site-packages/sklearn/linear_model/_sag.py:349: ConvergenceWarning: The max_iter was reached which means the coef_ did not converge\n",
      "  warnings.warn(\n",
      "/home/zahra/anaconda3/lib/python3.12/site-packages/sklearn/linear_model/_sag.py:349: ConvergenceWarning: The max_iter was reached which means the coef_ did not converge\n",
      "  warnings.warn(\n",
      "/home/zahra/anaconda3/lib/python3.12/site-packages/sklearn/linear_model/_sag.py:349: ConvergenceWarning: The max_iter was reached which means the coef_ did not converge\n",
      "  warnings.warn(\n"
     ]
    },
    {
     "name": "stdout",
     "output_type": "stream",
     "text": [
      "[CV 3/5] END m__C=0.1, m__penalty=l2, m__solver=saga, m__tol=0.001;, score=0.475 total time=   0.9s\n",
      "[CV 4/5] END m__C=0.1, m__penalty=l2, m__solver=saga, m__tol=0.001;, score=0.484 total time=   1.0s\n",
      "[CV 5/5] END m__C=0.1, m__penalty=l2, m__solver=saga, m__tol=0.001;, score=0.500 total time=   1.1s\n",
      "Fitting 5 folds for each of 1 candidates, totalling 5 fits\n",
      "[CV 3/5] END m__C=0.1, m__penalty=l2, m__solver=liblinear, m__tol=0.001;, score=0.464 total time=   0.3s\n",
      "[CV 4/5] END m__C=0.1, m__penalty=l2, m__solver=liblinear, m__tol=0.001;, score=0.470 total time=   0.4s\n",
      "[CV 5/5] END m__C=0.1, m__penalty=l2, m__solver=liblinear, m__tol=0.001;, score=0.484 total time=   0.4s\n",
      "[CV 1/5] END m__C=0.1, m__penalty=l2, m__solver=liblinear, m__tol=0.001;, score=0.463 total time=   0.5s\n",
      "[CV 2/5] END m__C=0.1, m__penalty=l2, m__solver=liblinear, m__tol=0.001;, score=0.471 total time=   0.5s\n",
      "Fitting 5 folds for each of 1 candidates, totalling 5 fits\n",
      "[CV 4/5] END m__C=1, m__penalty=l1, m__solver=saga, m__tol=0.01;, score=0.477 total time=   0.3s\n",
      "[CV 5/5] END m__C=1, m__penalty=l1, m__solver=saga, m__tol=0.01;, score=0.495 total time=   0.7s\n",
      "[CV 3/5] END m__C=1, m__penalty=l1, m__solver=saga, m__tol=0.01;, score=0.473 total time=   0.7s\n",
      "[CV 2/5] END m__C=1, m__penalty=l1, m__solver=saga, m__tol=0.01;, score=0.477 total time=   0.7s\n",
      "[CV 1/5] END m__C=1, m__penalty=l1, m__solver=saga, m__tol=0.01;, score=0.471 total time=   0.8s\n",
      "Fitting 5 folds for each of 1 candidates, totalling 5 fits\n"
     ]
    },
    {
     "name": "stderr",
     "output_type": "stream",
     "text": [
      "/home/zahra/anaconda3/lib/python3.12/site-packages/sklearn/linear_model/_sag.py:349: ConvergenceWarning: The max_iter was reached which means the coef_ did not converge\n",
      "  warnings.warn(\n",
      "/home/zahra/anaconda3/lib/python3.12/site-packages/sklearn/linear_model/_sag.py:349: ConvergenceWarning: The max_iter was reached which means the coef_ did not converge\n",
      "  warnings.warn(\n"
     ]
    },
    {
     "name": "stdout",
     "output_type": "stream",
     "text": [
      "[CV 1/5] END m__C=1, m__penalty=l1, m__solver=saga, m__tol=0.001;, score=0.485 total time=   0.8s\n",
      "[CV 4/5] END m__C=1, m__penalty=l1, m__solver=saga, m__tol=0.001;, score=0.489 total time=   0.8s\n"
     ]
    },
    {
     "name": "stderr",
     "output_type": "stream",
     "text": [
      "/home/zahra/anaconda3/lib/python3.12/site-packages/sklearn/linear_model/_sag.py:349: ConvergenceWarning: The max_iter was reached which means the coef_ did not converge\n",
      "  warnings.warn(\n"
     ]
    },
    {
     "name": "stdout",
     "output_type": "stream",
     "text": [
      "[CV 3/5] END m__C=1, m__penalty=l1, m__solver=saga, m__tol=0.001;, score=0.476 total time=   1.2s\n"
     ]
    },
    {
     "name": "stderr",
     "output_type": "stream",
     "text": [
      "/home/zahra/anaconda3/lib/python3.12/site-packages/sklearn/linear_model/_sag.py:349: ConvergenceWarning: The max_iter was reached which means the coef_ did not converge\n",
      "  warnings.warn(\n",
      "/home/zahra/anaconda3/lib/python3.12/site-packages/sklearn/linear_model/_sag.py:349: ConvergenceWarning: The max_iter was reached which means the coef_ did not converge\n",
      "  warnings.warn(\n"
     ]
    },
    {
     "name": "stdout",
     "output_type": "stream",
     "text": [
      "[CV 2/5] END m__C=1, m__penalty=l1, m__solver=saga, m__tol=0.001;, score=0.482 total time=   1.4s\n",
      "[CV 5/5] END m__C=1, m__penalty=l1, m__solver=saga, m__tol=0.001;, score=0.501 total time=   1.5s\n",
      "Fitting 5 folds for each of 1 candidates, totalling 5 fits\n",
      "[CV 2/5] END m__C=0.01, m__penalty=l1, m__solver=liblinear, m__tol=0.01;, score=0.367 total time=   0.1s\n",
      "[CV 5/5] END m__C=0.01, m__penalty=l1, m__solver=liblinear, m__tol=0.01;, score=0.375 total time=   0.1s\n",
      "[CV 4/5] END m__C=0.01, m__penalty=l1, m__solver=liblinear, m__tol=0.01;, score=0.374 total time=   0.2s\n",
      "[CV 1/5] END m__C=0.01, m__penalty=l1, m__solver=liblinear, m__tol=0.01;, score=0.354 total time=   0.2s\n",
      "[CV 3/5] END m__C=0.01, m__penalty=l1, m__solver=liblinear, m__tol=0.01;, score=0.369 total time=   0.2s\n",
      "Fitting 5 folds for each of 1 candidates, totalling 5 fits\n",
      "[CV 2/5] END m__C=10, m__penalty=l1, m__solver=liblinear, m__tol=0.001;, score=0.475 total time=   1.2s\n",
      "[CV 4/5] END m__C=10, m__penalty=l1, m__solver=liblinear, m__tol=0.001;, score=0.480 total time=   1.5s\n",
      "[CV 5/5] END m__C=10, m__penalty=l1, m__solver=liblinear, m__tol=0.001;, score=0.483 total time=   1.6s\n",
      "[CV 3/5] END m__C=10, m__penalty=l1, m__solver=liblinear, m__tol=0.001;, score=0.468 total time=   1.8s\n",
      "[CV 1/5] END m__C=10, m__penalty=l1, m__solver=liblinear, m__tol=0.001;, score=0.469 total time=   2.0s\n",
      "Fitting 5 folds for each of 1 candidates, totalling 5 fits\n"
     ]
    },
    {
     "name": "stderr",
     "output_type": "stream",
     "text": [
      "/home/zahra/anaconda3/lib/python3.12/site-packages/sklearn/linear_model/_sag.py:349: ConvergenceWarning: The max_iter was reached which means the coef_ did not converge\n",
      "  warnings.warn(\n"
     ]
    },
    {
     "name": "stdout",
     "output_type": "stream",
     "text": [
      "[CV 4/5] END m__C=1, m__penalty=l2, m__solver=saga, m__tol=0.0001;, score=0.489 total time=   0.7s\n"
     ]
    },
    {
     "name": "stderr",
     "output_type": "stream",
     "text": [
      "/home/zahra/anaconda3/lib/python3.12/site-packages/sklearn/linear_model/_sag.py:349: ConvergenceWarning: The max_iter was reached which means the coef_ did not converge\n",
      "  warnings.warn(\n"
     ]
    },
    {
     "name": "stdout",
     "output_type": "stream",
     "text": [
      "[CV 3/5] END m__C=1, m__penalty=l2, m__solver=saga, m__tol=0.0001;, score=0.477 total time=   1.2s\n"
     ]
    },
    {
     "name": "stderr",
     "output_type": "stream",
     "text": [
      "/home/zahra/anaconda3/lib/python3.12/site-packages/sklearn/linear_model/_sag.py:349: ConvergenceWarning: The max_iter was reached which means the coef_ did not converge\n",
      "  warnings.warn(\n",
      "/home/zahra/anaconda3/lib/python3.12/site-packages/sklearn/linear_model/_sag.py:349: ConvergenceWarning: The max_iter was reached which means the coef_ did not converge\n",
      "  warnings.warn(\n",
      "/home/zahra/anaconda3/lib/python3.12/site-packages/sklearn/linear_model/_sag.py:349: ConvergenceWarning: The max_iter was reached which means the coef_ did not converge\n",
      "  warnings.warn(\n"
     ]
    },
    {
     "name": "stdout",
     "output_type": "stream",
     "text": [
      "[CV 1/5] END m__C=1, m__penalty=l2, m__solver=saga, m__tol=0.0001;, score=0.487 total time=   1.4s\n",
      "[CV 2/5] END m__C=1, m__penalty=l2, m__solver=saga, m__tol=0.0001;, score=0.483 total time=   1.5s\n",
      "[CV 5/5] END m__C=1, m__penalty=l2, m__solver=saga, m__tol=0.0001;, score=0.500 total time=   1.5s\n",
      "Fitting 5 folds for each of 1 candidates, totalling 5 fits\n",
      "[CV 3/5] END m__C=1, m__penalty=l1, m__solver=liblinear, m__tol=0.001;, score=0.468 total time=   1.0s\n",
      "[CV 4/5] END m__C=1, m__penalty=l1, m__solver=liblinear, m__tol=0.001;, score=0.480 total time=   1.0s\n",
      "[CV 2/5] END m__C=1, m__penalty=l1, m__solver=liblinear, m__tol=0.001;, score=0.475 total time=   1.2s\n",
      "[CV 5/5] END m__C=1, m__penalty=l1, m__solver=liblinear, m__tol=0.001;, score=0.483 total time=   1.5s\n",
      "[CV 1/5] END m__C=1, m__penalty=l1, m__solver=liblinear, m__tol=0.001;, score=0.468 total time=   1.6s\n",
      "Fitting 5 folds for each of 1 candidates, totalling 5 fits\n",
      "[CV 2/5] END m__C=1, m__penalty=l1, m__solver=saga, m__tol=0.01;, score=0.477 total time=   0.4s\n",
      "[CV 5/5] END m__C=1, m__penalty=l1, m__solver=saga, m__tol=0.01;, score=0.495 total time=   0.6s\n",
      "[CV 3/5] END m__C=1, m__penalty=l1, m__solver=saga, m__tol=0.01;, score=0.473 total time=   0.8s\n",
      "[CV 1/5] END m__C=1, m__penalty=l1, m__solver=saga, m__tol=0.01;, score=0.471 total time=   0.8s\n",
      "[CV 4/5] END m__C=1, m__penalty=l1, m__solver=saga, m__tol=0.01;, score=0.478 total time=   0.9s\n",
      "Fitting 5 folds for each of 1 candidates, totalling 5 fits\n"
     ]
    },
    {
     "name": "stderr",
     "output_type": "stream",
     "text": [
      "/home/zahra/anaconda3/lib/python3.12/site-packages/sklearn/linear_model/_sag.py:349: ConvergenceWarning: The max_iter was reached which means the coef_ did not converge\n",
      "  warnings.warn(\n",
      "/home/zahra/anaconda3/lib/python3.12/site-packages/sklearn/linear_model/_sag.py:349: ConvergenceWarning: The max_iter was reached which means the coef_ did not converge\n",
      "  warnings.warn(\n"
     ]
    },
    {
     "name": "stdout",
     "output_type": "stream",
     "text": [
      "[CV 4/5] END m__C=0.01, m__penalty=l1, m__solver=saga, m__tol=0.001;, score=0.411 total time=   0.7s\n",
      "[CV 3/5] END m__C=0.01, m__penalty=l1, m__solver=saga, m__tol=0.001;, score=0.413 total time=   0.7s\n"
     ]
    },
    {
     "name": "stderr",
     "output_type": "stream",
     "text": [
      "/home/zahra/anaconda3/lib/python3.12/site-packages/sklearn/linear_model/_sag.py:349: ConvergenceWarning: The max_iter was reached which means the coef_ did not converge\n",
      "  warnings.warn(\n",
      "/home/zahra/anaconda3/lib/python3.12/site-packages/sklearn/linear_model/_sag.py:349: ConvergenceWarning: The max_iter was reached which means the coef_ did not converge\n",
      "  warnings.warn(\n"
     ]
    },
    {
     "name": "stdout",
     "output_type": "stream",
     "text": [
      "[CV 5/5] END m__C=0.01, m__penalty=l1, m__solver=saga, m__tol=0.001;, score=0.419 total time=   1.1s\n",
      "[CV 2/5] END m__C=0.01, m__penalty=l1, m__solver=saga, m__tol=0.001;, score=0.415 total time=   1.1s\n"
     ]
    },
    {
     "name": "stderr",
     "output_type": "stream",
     "text": [
      "/home/zahra/anaconda3/lib/python3.12/site-packages/sklearn/linear_model/_sag.py:349: ConvergenceWarning: The max_iter was reached which means the coef_ did not converge\n",
      "  warnings.warn(\n"
     ]
    },
    {
     "name": "stdout",
     "output_type": "stream",
     "text": [
      "[CV 1/5] END m__C=0.01, m__penalty=l1, m__solver=saga, m__tol=0.001;, score=0.405 total time=   1.3s\n",
      "Fitting 5 folds for each of 1 candidates, totalling 5 fits\n",
      "[CV 1/5] END m__C=1, m__penalty=l1, m__solver=liblinear, m__tol=0.01;, score=0.470 total time=   0.3s\n",
      "[CV 5/5] END m__C=1, m__penalty=l1, m__solver=liblinear, m__tol=0.01;, score=0.485 total time=   0.3s\n",
      "[CV 2/5] END m__C=1, m__penalty=l1, m__solver=liblinear, m__tol=0.01;, score=0.474 total time=   0.4s\n",
      "[CV 3/5] END m__C=1, m__penalty=l1, m__solver=liblinear, m__tol=0.01;, score=0.467 total time=   0.4s\n",
      "[CV 4/5] END m__C=1, m__penalty=l1, m__solver=liblinear, m__tol=0.01;, score=0.478 total time=   0.5s\n",
      "Fitting 5 folds for each of 1 candidates, totalling 5 fits\n"
     ]
    },
    {
     "name": "stderr",
     "output_type": "stream",
     "text": [
      "/home/zahra/anaconda3/lib/python3.12/site-packages/sklearn/linear_model/_sag.py:349: ConvergenceWarning: The max_iter was reached which means the coef_ did not converge\n",
      "  warnings.warn(\n",
      "/home/zahra/anaconda3/lib/python3.12/site-packages/sklearn/linear_model/_sag.py:349: ConvergenceWarning: The max_iter was reached which means the coef_ did not converge\n",
      "  warnings.warn(\n",
      "/home/zahra/anaconda3/lib/python3.12/site-packages/sklearn/linear_model/_sag.py:349: ConvergenceWarning: The max_iter was reached which means the coef_ did not converge\n",
      "  warnings.warn(\n"
     ]
    },
    {
     "name": "stdout",
     "output_type": "stream",
     "text": [
      "[CV 1/5] END m__C=10, m__penalty=l1, m__solver=saga, m__tol=0.0001;, score=0.486 total time=   0.8s\n",
      "[CV 5/5] END m__C=10, m__penalty=l1, m__solver=saga, m__tol=0.0001;, score=0.500 total time=   0.8s\n",
      "[CV 2/5] END m__C=10, m__penalty=l1, m__solver=saga, m__tol=0.0001;, score=0.483 total time=   0.8s\n"
     ]
    },
    {
     "name": "stderr",
     "output_type": "stream",
     "text": [
      "/home/zahra/anaconda3/lib/python3.12/site-packages/sklearn/linear_model/_sag.py:349: ConvergenceWarning: The max_iter was reached which means the coef_ did not converge\n",
      "  warnings.warn(\n",
      "/home/zahra/anaconda3/lib/python3.12/site-packages/sklearn/linear_model/_sag.py:349: ConvergenceWarning: The max_iter was reached which means the coef_ did not converge\n",
      "  warnings.warn(\n"
     ]
    },
    {
     "name": "stdout",
     "output_type": "stream",
     "text": [
      "[CV 3/5] END m__C=10, m__penalty=l1, m__solver=saga, m__tol=0.0001;, score=0.478 total time=   1.2s\n",
      "[CV 4/5] END m__C=10, m__penalty=l1, m__solver=saga, m__tol=0.0001;, score=0.489 total time=   1.2s\n",
      "Fitting 5 folds for each of 1 candidates, totalling 5 fits\n",
      "[CV 5/5] END m__C=0.01, m__penalty=l1, m__solver=liblinear, m__tol=0.001;, score=0.372 total time=   0.1s\n",
      "[CV 1/5] END m__C=0.01, m__penalty=l1, m__solver=liblinear, m__tol=0.001;, score=0.357 total time=   0.2s\n",
      "[CV 2/5] END m__C=0.01, m__penalty=l1, m__solver=liblinear, m__tol=0.001;, score=0.370 total time=   0.2s\n",
      "[CV 3/5] END m__C=0.01, m__penalty=l1, m__solver=liblinear, m__tol=0.001;, score=0.370 total time=   0.2s\n",
      "[CV 4/5] END m__C=0.01, m__penalty=l1, m__solver=liblinear, m__tol=0.001;, score=0.372 total time=   0.2s\n",
      "Fitting 5 folds for each of 1 candidates, totalling 5 fits\n"
     ]
    },
    {
     "name": "stderr",
     "output_type": "stream",
     "text": [
      "/home/zahra/anaconda3/lib/python3.12/site-packages/sklearn/linear_model/_sag.py:349: ConvergenceWarning: The max_iter was reached which means the coef_ did not converge\n",
      "  warnings.warn(\n"
     ]
    },
    {
     "name": "stdout",
     "output_type": "stream",
     "text": [
      "[CV 3/5] END m__C=0.01, m__penalty=l1, m__solver=saga, m__tol=0.0001;, score=0.413 total time=   0.9s\n"
     ]
    },
    {
     "name": "stderr",
     "output_type": "stream",
     "text": [
      "/home/zahra/anaconda3/lib/python3.12/site-packages/sklearn/linear_model/_sag.py:349: ConvergenceWarning: The max_iter was reached which means the coef_ did not converge\n",
      "  warnings.warn(\n"
     ]
    },
    {
     "name": "stdout",
     "output_type": "stream",
     "text": [
      "[CV 5/5] END m__C=0.01, m__penalty=l1, m__solver=saga, m__tol=0.0001;, score=0.419 total time=   1.3s\n"
     ]
    },
    {
     "name": "stderr",
     "output_type": "stream",
     "text": [
      "/home/zahra/anaconda3/lib/python3.12/site-packages/sklearn/linear_model/_sag.py:349: ConvergenceWarning: The max_iter was reached which means the coef_ did not converge\n",
      "  warnings.warn(\n",
      "/home/zahra/anaconda3/lib/python3.12/site-packages/sklearn/linear_model/_sag.py:349: ConvergenceWarning: The max_iter was reached which means the coef_ did not converge\n",
      "  warnings.warn(\n"
     ]
    },
    {
     "name": "stdout",
     "output_type": "stream",
     "text": [
      "[CV 4/5] END m__C=0.01, m__penalty=l1, m__solver=saga, m__tol=0.0001;, score=0.411 total time=   1.6s\n",
      "[CV 1/5] END m__C=0.01, m__penalty=l1, m__solver=saga, m__tol=0.0001;, score=0.405 total time=   1.7s\n"
     ]
    },
    {
     "name": "stderr",
     "output_type": "stream",
     "text": [
      "/home/zahra/anaconda3/lib/python3.12/site-packages/sklearn/linear_model/_sag.py:349: ConvergenceWarning: The max_iter was reached which means the coef_ did not converge\n",
      "  warnings.warn(\n"
     ]
    },
    {
     "name": "stdout",
     "output_type": "stream",
     "text": [
      "[CV 2/5] END m__C=0.01, m__penalty=l1, m__solver=saga, m__tol=0.0001;, score=0.415 total time=   1.8s\n",
      "Fitting 5 folds for each of 1 candidates, totalling 5 fits\n",
      "[CV 5/5] END m__C=1, m__penalty=l1, m__solver=liblinear, m__tol=0.0001;, score=0.483 total time=   1.5s\n",
      "[CV 3/5] END m__C=1, m__penalty=l1, m__solver=liblinear, m__tol=0.0001;, score=0.468 total time=   1.8s\n",
      "[CV 2/5] END m__C=1, m__penalty=l1, m__solver=liblinear, m__tol=0.0001;, score=0.475 total time=   2.5s\n",
      "[CV 4/5] END m__C=1, m__penalty=l1, m__solver=liblinear, m__tol=0.0001;, score=0.480 total time=   2.7s\n",
      "[CV 1/5] END m__C=1, m__penalty=l1, m__solver=liblinear, m__tol=0.0001;, score=0.468 total time=   3.6s\n",
      "Fitting 5 folds for each of 1 candidates, totalling 5 fits\n",
      "[CV 5/5] END m__C=10, m__penalty=l2, m__solver=liblinear, m__tol=0.01;, score=0.482 total time=   0.2s\n",
      "[CV 1/5] END m__C=10, m__penalty=l2, m__solver=liblinear, m__tol=0.01;, score=0.469 total time=   0.3s\n",
      "[CV 2/5] END m__C=10, m__penalty=l2, m__solver=liblinear, m__tol=0.01;, score=0.476 total time=   0.3s\n",
      "[CV 3/5] END m__C=10, m__penalty=l2, m__solver=liblinear, m__tol=0.01;, score=0.468 total time=   0.4s\n",
      "[CV 4/5] END m__C=10, m__penalty=l2, m__solver=liblinear, m__tol=0.01;, score=0.479 total time=   0.4s\n",
      "Fitting 5 folds for each of 1 candidates, totalling 5 fits\n",
      "[CV 5/5] END m__C=0.1, m__penalty=l1, m__solver=liblinear, m__tol=0.01;, score=0.477 total time=   0.2s\n",
      "[CV 3/5] END m__C=0.1, m__penalty=l1, m__solver=liblinear, m__tol=0.01;, score=0.463 total time=   0.3s\n",
      "[CV 2/5] END m__C=0.1, m__penalty=l1, m__solver=liblinear, m__tol=0.01;, score=0.467 total time=   0.4s\n",
      "[CV 4/5] END m__C=0.1, m__penalty=l1, m__solver=liblinear, m__tol=0.01;, score=0.467 total time=   0.4s\n",
      "[CV 1/5] END m__C=0.1, m__penalty=l1, m__solver=liblinear, m__tol=0.01;, score=0.458 total time=   0.4s\n",
      "Fitting 5 folds for each of 1 candidates, totalling 5 fits\n"
     ]
    },
    {
     "name": "stderr",
     "output_type": "stream",
     "text": [
      "/home/zahra/anaconda3/lib/python3.12/site-packages/sklearn/linear_model/_sag.py:349: ConvergenceWarning: The max_iter was reached which means the coef_ did not converge\n",
      "  warnings.warn(\n"
     ]
    },
    {
     "name": "stdout",
     "output_type": "stream",
     "text": [
      "[CV 3/5] END m__C=10, m__penalty=l1, m__solver=saga, m__tol=0.0001;, score=0.478 total time=   0.8s\n"
     ]
    },
    {
     "name": "stderr",
     "output_type": "stream",
     "text": [
      "/home/zahra/anaconda3/lib/python3.12/site-packages/sklearn/linear_model/_sag.py:349: ConvergenceWarning: The max_iter was reached which means the coef_ did not converge\n",
      "  warnings.warn(\n"
     ]
    },
    {
     "name": "stdout",
     "output_type": "stream",
     "text": [
      "[CV 1/5] END m__C=10, m__penalty=l1, m__solver=saga, m__tol=0.0001;, score=0.486 total time=   1.2s\n"
     ]
    },
    {
     "name": "stderr",
     "output_type": "stream",
     "text": [
      "/home/zahra/anaconda3/lib/python3.12/site-packages/sklearn/linear_model/_sag.py:349: ConvergenceWarning: The max_iter was reached which means the coef_ did not converge\n",
      "  warnings.warn(\n",
      "/home/zahra/anaconda3/lib/python3.12/site-packages/sklearn/linear_model/_sag.py:349: ConvergenceWarning: The max_iter was reached which means the coef_ did not converge\n",
      "  warnings.warn(\n"
     ]
    },
    {
     "name": "stdout",
     "output_type": "stream",
     "text": [
      "[CV 2/5] END m__C=10, m__penalty=l1, m__solver=saga, m__tol=0.0001;, score=0.483 total time=   1.4s\n",
      "[CV 5/5] END m__C=10, m__penalty=l1, m__solver=saga, m__tol=0.0001;, score=0.500 total time=   1.5s\n"
     ]
    },
    {
     "name": "stderr",
     "output_type": "stream",
     "text": [
      "/home/zahra/anaconda3/lib/python3.12/site-packages/sklearn/linear_model/_sag.py:349: ConvergenceWarning: The max_iter was reached which means the coef_ did not converge\n",
      "  warnings.warn(\n"
     ]
    },
    {
     "name": "stdout",
     "output_type": "stream",
     "text": [
      "[CV 4/5] END m__C=10, m__penalty=l1, m__solver=saga, m__tol=0.0001;, score=0.489 total time=   1.7s\n"
     ]
    },
    {
     "data": {
      "text/html": [
       "<style>#sk-container-id-1 {\n",
       "  /* Definition of color scheme common for light and dark mode */\n",
       "  --sklearn-color-text: black;\n",
       "  --sklearn-color-line: gray;\n",
       "  /* Definition of color scheme for unfitted estimators */\n",
       "  --sklearn-color-unfitted-level-0: #fff5e6;\n",
       "  --sklearn-color-unfitted-level-1: #f6e4d2;\n",
       "  --sklearn-color-unfitted-level-2: #ffe0b3;\n",
       "  --sklearn-color-unfitted-level-3: chocolate;\n",
       "  /* Definition of color scheme for fitted estimators */\n",
       "  --sklearn-color-fitted-level-0: #f0f8ff;\n",
       "  --sklearn-color-fitted-level-1: #d4ebff;\n",
       "  --sklearn-color-fitted-level-2: #b3dbfd;\n",
       "  --sklearn-color-fitted-level-3: cornflowerblue;\n",
       "\n",
       "  /* Specific color for light theme */\n",
       "  --sklearn-color-text-on-default-background: var(--sg-text-color, var(--theme-code-foreground, var(--jp-content-font-color1, black)));\n",
       "  --sklearn-color-background: var(--sg-background-color, var(--theme-background, var(--jp-layout-color0, white)));\n",
       "  --sklearn-color-border-box: var(--sg-text-color, var(--theme-code-foreground, var(--jp-content-font-color1, black)));\n",
       "  --sklearn-color-icon: #696969;\n",
       "\n",
       "  @media (prefers-color-scheme: dark) {\n",
       "    /* Redefinition of color scheme for dark theme */\n",
       "    --sklearn-color-text-on-default-background: var(--sg-text-color, var(--theme-code-foreground, var(--jp-content-font-color1, white)));\n",
       "    --sklearn-color-background: var(--sg-background-color, var(--theme-background, var(--jp-layout-color0, #111)));\n",
       "    --sklearn-color-border-box: var(--sg-text-color, var(--theme-code-foreground, var(--jp-content-font-color1, white)));\n",
       "    --sklearn-color-icon: #878787;\n",
       "  }\n",
       "}\n",
       "\n",
       "#sk-container-id-1 {\n",
       "  color: var(--sklearn-color-text);\n",
       "}\n",
       "\n",
       "#sk-container-id-1 pre {\n",
       "  padding: 0;\n",
       "}\n",
       "\n",
       "#sk-container-id-1 input.sk-hidden--visually {\n",
       "  border: 0;\n",
       "  clip: rect(1px 1px 1px 1px);\n",
       "  clip: rect(1px, 1px, 1px, 1px);\n",
       "  height: 1px;\n",
       "  margin: -1px;\n",
       "  overflow: hidden;\n",
       "  padding: 0;\n",
       "  position: absolute;\n",
       "  width: 1px;\n",
       "}\n",
       "\n",
       "#sk-container-id-1 div.sk-dashed-wrapped {\n",
       "  border: 1px dashed var(--sklearn-color-line);\n",
       "  margin: 0 0.4em 0.5em 0.4em;\n",
       "  box-sizing: border-box;\n",
       "  padding-bottom: 0.4em;\n",
       "  background-color: var(--sklearn-color-background);\n",
       "}\n",
       "\n",
       "#sk-container-id-1 div.sk-container {\n",
       "  /* jupyter's `normalize.less` sets `[hidden] { display: none; }`\n",
       "     but bootstrap.min.css set `[hidden] { display: none !important; }`\n",
       "     so we also need the `!important` here to be able to override the\n",
       "     default hidden behavior on the sphinx rendered scikit-learn.org.\n",
       "     See: https://github.com/scikit-learn/scikit-learn/issues/21755 */\n",
       "  display: inline-block !important;\n",
       "  position: relative;\n",
       "}\n",
       "\n",
       "#sk-container-id-1 div.sk-text-repr-fallback {\n",
       "  display: none;\n",
       "}\n",
       "\n",
       "div.sk-parallel-item,\n",
       "div.sk-serial,\n",
       "div.sk-item {\n",
       "  /* draw centered vertical line to link estimators */\n",
       "  background-image: linear-gradient(var(--sklearn-color-text-on-default-background), var(--sklearn-color-text-on-default-background));\n",
       "  background-size: 2px 100%;\n",
       "  background-repeat: no-repeat;\n",
       "  background-position: center center;\n",
       "}\n",
       "\n",
       "/* Parallel-specific style estimator block */\n",
       "\n",
       "#sk-container-id-1 div.sk-parallel-item::after {\n",
       "  content: \"\";\n",
       "  width: 100%;\n",
       "  border-bottom: 2px solid var(--sklearn-color-text-on-default-background);\n",
       "  flex-grow: 1;\n",
       "}\n",
       "\n",
       "#sk-container-id-1 div.sk-parallel {\n",
       "  display: flex;\n",
       "  align-items: stretch;\n",
       "  justify-content: center;\n",
       "  background-color: var(--sklearn-color-background);\n",
       "  position: relative;\n",
       "}\n",
       "\n",
       "#sk-container-id-1 div.sk-parallel-item {\n",
       "  display: flex;\n",
       "  flex-direction: column;\n",
       "}\n",
       "\n",
       "#sk-container-id-1 div.sk-parallel-item:first-child::after {\n",
       "  align-self: flex-end;\n",
       "  width: 50%;\n",
       "}\n",
       "\n",
       "#sk-container-id-1 div.sk-parallel-item:last-child::after {\n",
       "  align-self: flex-start;\n",
       "  width: 50%;\n",
       "}\n",
       "\n",
       "#sk-container-id-1 div.sk-parallel-item:only-child::after {\n",
       "  width: 0;\n",
       "}\n",
       "\n",
       "/* Serial-specific style estimator block */\n",
       "\n",
       "#sk-container-id-1 div.sk-serial {\n",
       "  display: flex;\n",
       "  flex-direction: column;\n",
       "  align-items: center;\n",
       "  background-color: var(--sklearn-color-background);\n",
       "  padding-right: 1em;\n",
       "  padding-left: 1em;\n",
       "}\n",
       "\n",
       "\n",
       "/* Toggleable style: style used for estimator/Pipeline/ColumnTransformer box that is\n",
       "clickable and can be expanded/collapsed.\n",
       "- Pipeline and ColumnTransformer use this feature and define the default style\n",
       "- Estimators will overwrite some part of the style using the `sk-estimator` class\n",
       "*/\n",
       "\n",
       "/* Pipeline and ColumnTransformer style (default) */\n",
       "\n",
       "#sk-container-id-1 div.sk-toggleable {\n",
       "  /* Default theme specific background. It is overwritten whether we have a\n",
       "  specific estimator or a Pipeline/ColumnTransformer */\n",
       "  background-color: var(--sklearn-color-background);\n",
       "}\n",
       "\n",
       "/* Toggleable label */\n",
       "#sk-container-id-1 label.sk-toggleable__label {\n",
       "  cursor: pointer;\n",
       "  display: block;\n",
       "  width: 100%;\n",
       "  margin-bottom: 0;\n",
       "  padding: 0.5em;\n",
       "  box-sizing: border-box;\n",
       "  text-align: center;\n",
       "}\n",
       "\n",
       "#sk-container-id-1 label.sk-toggleable__label-arrow:before {\n",
       "  /* Arrow on the left of the label */\n",
       "  content: \"▸\";\n",
       "  float: left;\n",
       "  margin-right: 0.25em;\n",
       "  color: var(--sklearn-color-icon);\n",
       "}\n",
       "\n",
       "#sk-container-id-1 label.sk-toggleable__label-arrow:hover:before {\n",
       "  color: var(--sklearn-color-text);\n",
       "}\n",
       "\n",
       "/* Toggleable content - dropdown */\n",
       "\n",
       "#sk-container-id-1 div.sk-toggleable__content {\n",
       "  max-height: 0;\n",
       "  max-width: 0;\n",
       "  overflow: hidden;\n",
       "  text-align: left;\n",
       "  /* unfitted */\n",
       "  background-color: var(--sklearn-color-unfitted-level-0);\n",
       "}\n",
       "\n",
       "#sk-container-id-1 div.sk-toggleable__content.fitted {\n",
       "  /* fitted */\n",
       "  background-color: var(--sklearn-color-fitted-level-0);\n",
       "}\n",
       "\n",
       "#sk-container-id-1 div.sk-toggleable__content pre {\n",
       "  margin: 0.2em;\n",
       "  border-radius: 0.25em;\n",
       "  color: var(--sklearn-color-text);\n",
       "  /* unfitted */\n",
       "  background-color: var(--sklearn-color-unfitted-level-0);\n",
       "}\n",
       "\n",
       "#sk-container-id-1 div.sk-toggleable__content.fitted pre {\n",
       "  /* unfitted */\n",
       "  background-color: var(--sklearn-color-fitted-level-0);\n",
       "}\n",
       "\n",
       "#sk-container-id-1 input.sk-toggleable__control:checked~div.sk-toggleable__content {\n",
       "  /* Expand drop-down */\n",
       "  max-height: 200px;\n",
       "  max-width: 100%;\n",
       "  overflow: auto;\n",
       "}\n",
       "\n",
       "#sk-container-id-1 input.sk-toggleable__control:checked~label.sk-toggleable__label-arrow:before {\n",
       "  content: \"▾\";\n",
       "}\n",
       "\n",
       "/* Pipeline/ColumnTransformer-specific style */\n",
       "\n",
       "#sk-container-id-1 div.sk-label input.sk-toggleable__control:checked~label.sk-toggleable__label {\n",
       "  color: var(--sklearn-color-text);\n",
       "  background-color: var(--sklearn-color-unfitted-level-2);\n",
       "}\n",
       "\n",
       "#sk-container-id-1 div.sk-label.fitted input.sk-toggleable__control:checked~label.sk-toggleable__label {\n",
       "  background-color: var(--sklearn-color-fitted-level-2);\n",
       "}\n",
       "\n",
       "/* Estimator-specific style */\n",
       "\n",
       "/* Colorize estimator box */\n",
       "#sk-container-id-1 div.sk-estimator input.sk-toggleable__control:checked~label.sk-toggleable__label {\n",
       "  /* unfitted */\n",
       "  background-color: var(--sklearn-color-unfitted-level-2);\n",
       "}\n",
       "\n",
       "#sk-container-id-1 div.sk-estimator.fitted input.sk-toggleable__control:checked~label.sk-toggleable__label {\n",
       "  /* fitted */\n",
       "  background-color: var(--sklearn-color-fitted-level-2);\n",
       "}\n",
       "\n",
       "#sk-container-id-1 div.sk-label label.sk-toggleable__label,\n",
       "#sk-container-id-1 div.sk-label label {\n",
       "  /* The background is the default theme color */\n",
       "  color: var(--sklearn-color-text-on-default-background);\n",
       "}\n",
       "\n",
       "/* On hover, darken the color of the background */\n",
       "#sk-container-id-1 div.sk-label:hover label.sk-toggleable__label {\n",
       "  color: var(--sklearn-color-text);\n",
       "  background-color: var(--sklearn-color-unfitted-level-2);\n",
       "}\n",
       "\n",
       "/* Label box, darken color on hover, fitted */\n",
       "#sk-container-id-1 div.sk-label.fitted:hover label.sk-toggleable__label.fitted {\n",
       "  color: var(--sklearn-color-text);\n",
       "  background-color: var(--sklearn-color-fitted-level-2);\n",
       "}\n",
       "\n",
       "/* Estimator label */\n",
       "\n",
       "#sk-container-id-1 div.sk-label label {\n",
       "  font-family: monospace;\n",
       "  font-weight: bold;\n",
       "  display: inline-block;\n",
       "  line-height: 1.2em;\n",
       "}\n",
       "\n",
       "#sk-container-id-1 div.sk-label-container {\n",
       "  text-align: center;\n",
       "}\n",
       "\n",
       "/* Estimator-specific */\n",
       "#sk-container-id-1 div.sk-estimator {\n",
       "  font-family: monospace;\n",
       "  border: 1px dotted var(--sklearn-color-border-box);\n",
       "  border-radius: 0.25em;\n",
       "  box-sizing: border-box;\n",
       "  margin-bottom: 0.5em;\n",
       "  /* unfitted */\n",
       "  background-color: var(--sklearn-color-unfitted-level-0);\n",
       "}\n",
       "\n",
       "#sk-container-id-1 div.sk-estimator.fitted {\n",
       "  /* fitted */\n",
       "  background-color: var(--sklearn-color-fitted-level-0);\n",
       "}\n",
       "\n",
       "/* on hover */\n",
       "#sk-container-id-1 div.sk-estimator:hover {\n",
       "  /* unfitted */\n",
       "  background-color: var(--sklearn-color-unfitted-level-2);\n",
       "}\n",
       "\n",
       "#sk-container-id-1 div.sk-estimator.fitted:hover {\n",
       "  /* fitted */\n",
       "  background-color: var(--sklearn-color-fitted-level-2);\n",
       "}\n",
       "\n",
       "/* Specification for estimator info (e.g. \"i\" and \"?\") */\n",
       "\n",
       "/* Common style for \"i\" and \"?\" */\n",
       "\n",
       ".sk-estimator-doc-link,\n",
       "a:link.sk-estimator-doc-link,\n",
       "a:visited.sk-estimator-doc-link {\n",
       "  float: right;\n",
       "  font-size: smaller;\n",
       "  line-height: 1em;\n",
       "  font-family: monospace;\n",
       "  background-color: var(--sklearn-color-background);\n",
       "  border-radius: 1em;\n",
       "  height: 1em;\n",
       "  width: 1em;\n",
       "  text-decoration: none !important;\n",
       "  margin-left: 1ex;\n",
       "  /* unfitted */\n",
       "  border: var(--sklearn-color-unfitted-level-1) 1pt solid;\n",
       "  color: var(--sklearn-color-unfitted-level-1);\n",
       "}\n",
       "\n",
       ".sk-estimator-doc-link.fitted,\n",
       "a:link.sk-estimator-doc-link.fitted,\n",
       "a:visited.sk-estimator-doc-link.fitted {\n",
       "  /* fitted */\n",
       "  border: var(--sklearn-color-fitted-level-1) 1pt solid;\n",
       "  color: var(--sklearn-color-fitted-level-1);\n",
       "}\n",
       "\n",
       "/* On hover */\n",
       "div.sk-estimator:hover .sk-estimator-doc-link:hover,\n",
       ".sk-estimator-doc-link:hover,\n",
       "div.sk-label-container:hover .sk-estimator-doc-link:hover,\n",
       ".sk-estimator-doc-link:hover {\n",
       "  /* unfitted */\n",
       "  background-color: var(--sklearn-color-unfitted-level-3);\n",
       "  color: var(--sklearn-color-background);\n",
       "  text-decoration: none;\n",
       "}\n",
       "\n",
       "div.sk-estimator.fitted:hover .sk-estimator-doc-link.fitted:hover,\n",
       ".sk-estimator-doc-link.fitted:hover,\n",
       "div.sk-label-container:hover .sk-estimator-doc-link.fitted:hover,\n",
       ".sk-estimator-doc-link.fitted:hover {\n",
       "  /* fitted */\n",
       "  background-color: var(--sklearn-color-fitted-level-3);\n",
       "  color: var(--sklearn-color-background);\n",
       "  text-decoration: none;\n",
       "}\n",
       "\n",
       "/* Span, style for the box shown on hovering the info icon */\n",
       ".sk-estimator-doc-link span {\n",
       "  display: none;\n",
       "  z-index: 9999;\n",
       "  position: relative;\n",
       "  font-weight: normal;\n",
       "  right: .2ex;\n",
       "  padding: .5ex;\n",
       "  margin: .5ex;\n",
       "  width: min-content;\n",
       "  min-width: 20ex;\n",
       "  max-width: 50ex;\n",
       "  color: var(--sklearn-color-text);\n",
       "  box-shadow: 2pt 2pt 4pt #999;\n",
       "  /* unfitted */\n",
       "  background: var(--sklearn-color-unfitted-level-0);\n",
       "  border: .5pt solid var(--sklearn-color-unfitted-level-3);\n",
       "}\n",
       "\n",
       ".sk-estimator-doc-link.fitted span {\n",
       "  /* fitted */\n",
       "  background: var(--sklearn-color-fitted-level-0);\n",
       "  border: var(--sklearn-color-fitted-level-3);\n",
       "}\n",
       "\n",
       ".sk-estimator-doc-link:hover span {\n",
       "  display: block;\n",
       "}\n",
       "\n",
       "/* \"?\"-specific style due to the `<a>` HTML tag */\n",
       "\n",
       "#sk-container-id-1 a.estimator_doc_link {\n",
       "  float: right;\n",
       "  font-size: 1rem;\n",
       "  line-height: 1em;\n",
       "  font-family: monospace;\n",
       "  background-color: var(--sklearn-color-background);\n",
       "  border-radius: 1rem;\n",
       "  height: 1rem;\n",
       "  width: 1rem;\n",
       "  text-decoration: none;\n",
       "  /* unfitted */\n",
       "  color: var(--sklearn-color-unfitted-level-1);\n",
       "  border: var(--sklearn-color-unfitted-level-1) 1pt solid;\n",
       "}\n",
       "\n",
       "#sk-container-id-1 a.estimator_doc_link.fitted {\n",
       "  /* fitted */\n",
       "  border: var(--sklearn-color-fitted-level-1) 1pt solid;\n",
       "  color: var(--sklearn-color-fitted-level-1);\n",
       "}\n",
       "\n",
       "/* On hover */\n",
       "#sk-container-id-1 a.estimator_doc_link:hover {\n",
       "  /* unfitted */\n",
       "  background-color: var(--sklearn-color-unfitted-level-3);\n",
       "  color: var(--sklearn-color-background);\n",
       "  text-decoration: none;\n",
       "}\n",
       "\n",
       "#sk-container-id-1 a.estimator_doc_link.fitted:hover {\n",
       "  /* fitted */\n",
       "  background-color: var(--sklearn-color-fitted-level-3);\n",
       "}\n",
       "</style><div id=\"sk-container-id-1\" class=\"sk-top-container\"><div class=\"sk-text-repr-fallback\"><pre>BayesSearchCV(cv=5,\n",
       "              estimator=Pipeline(steps=[(&#x27;std_slc&#x27;, StandardScaler()),\n",
       "                                        (&#x27;m&#x27;, LogisticRegression())]),\n",
       "              n_jobs=-1, scoring=&#x27;f1_macro&#x27;,\n",
       "              search_spaces={&#x27;m__C&#x27;: [0.01, 0.1, 1, 10],\n",
       "                             &#x27;m__penalty&#x27;: [&#x27;l1&#x27;, &#x27;l2&#x27;],\n",
       "                             &#x27;m__solver&#x27;: [&#x27;liblinear&#x27;, &#x27;saga&#x27;],\n",
       "                             &#x27;m__tol&#x27;: [0.0001, 0.001, 0.01]},\n",
       "              verbose=3)</pre><b>In a Jupyter environment, please rerun this cell to show the HTML representation or trust the notebook. <br />On GitHub, the HTML representation is unable to render, please try loading this page with nbviewer.org.</b></div><div class=\"sk-container\" hidden><div class=\"sk-item sk-dashed-wrapped\"><div class=\"sk-label-container\"><div class=\"sk-label fitted sk-toggleable\"><input class=\"sk-toggleable__control sk-hidden--visually\" id=\"sk-estimator-id-1\" type=\"checkbox\" ><label for=\"sk-estimator-id-1\" class=\"sk-toggleable__label fitted sk-toggleable__label-arrow fitted\">&nbsp;BayesSearchCV<span class=\"sk-estimator-doc-link fitted\">i<span>Fitted</span></span></label><div class=\"sk-toggleable__content fitted\"><pre>BayesSearchCV(cv=5,\n",
       "              estimator=Pipeline(steps=[(&#x27;std_slc&#x27;, StandardScaler()),\n",
       "                                        (&#x27;m&#x27;, LogisticRegression())]),\n",
       "              n_jobs=-1, scoring=&#x27;f1_macro&#x27;,\n",
       "              search_spaces={&#x27;m__C&#x27;: [0.01, 0.1, 1, 10],\n",
       "                             &#x27;m__penalty&#x27;: [&#x27;l1&#x27;, &#x27;l2&#x27;],\n",
       "                             &#x27;m__solver&#x27;: [&#x27;liblinear&#x27;, &#x27;saga&#x27;],\n",
       "                             &#x27;m__tol&#x27;: [0.0001, 0.001, 0.01]},\n",
       "              verbose=3)</pre></div> </div></div><div class=\"sk-parallel\"><div class=\"sk-parallel-item\"><div class=\"sk-item\"><div class=\"sk-label-container\"><div class=\"sk-label fitted sk-toggleable\"><input class=\"sk-toggleable__control sk-hidden--visually\" id=\"sk-estimator-id-2\" type=\"checkbox\" ><label for=\"sk-estimator-id-2\" class=\"sk-toggleable__label fitted sk-toggleable__label-arrow fitted\">best_estimator_: Pipeline</label><div class=\"sk-toggleable__content fitted\"><pre>Pipeline(steps=[(&#x27;std_slc&#x27;, StandardScaler()),\n",
       "                (&#x27;m&#x27;, LogisticRegression(C=10, solver=&#x27;saga&#x27;, tol=0.001))])</pre></div> </div></div><div class=\"sk-serial\"><div class=\"sk-item\"><div class=\"sk-serial\"><div class=\"sk-item\"><div class=\"sk-estimator fitted sk-toggleable\"><input class=\"sk-toggleable__control sk-hidden--visually\" id=\"sk-estimator-id-3\" type=\"checkbox\" ><label for=\"sk-estimator-id-3\" class=\"sk-toggleable__label fitted sk-toggleable__label-arrow fitted\">&nbsp;StandardScaler<a class=\"sk-estimator-doc-link fitted\" rel=\"noreferrer\" target=\"_blank\" href=\"https://scikit-learn.org/1.5/modules/generated/sklearn.preprocessing.StandardScaler.html\">?<span>Documentation for StandardScaler</span></a></label><div class=\"sk-toggleable__content fitted\"><pre>StandardScaler()</pre></div> </div></div><div class=\"sk-item\"><div class=\"sk-estimator fitted sk-toggleable\"><input class=\"sk-toggleable__control sk-hidden--visually\" id=\"sk-estimator-id-4\" type=\"checkbox\" ><label for=\"sk-estimator-id-4\" class=\"sk-toggleable__label fitted sk-toggleable__label-arrow fitted\">LogisticRegression</label><div class=\"sk-toggleable__content fitted\"><pre>LogisticRegression(C=10, solver=&#x27;saga&#x27;, tol=0.001)</pre></div> </div></div></div></div></div></div></div></div></div></div></div>"
      ],
      "text/plain": [
       "BayesSearchCV(cv=5,\n",
       "              estimator=Pipeline(steps=[('std_slc', StandardScaler()),\n",
       "                                        ('m', LogisticRegression())]),\n",
       "              n_jobs=-1, scoring='f1_macro',\n",
       "              search_spaces={'m__C': [0.01, 0.1, 1, 10],\n",
       "                             'm__penalty': ['l1', 'l2'],\n",
       "                             'm__solver': ['liblinear', 'saga'],\n",
       "                             'm__tol': [0.0001, 0.001, 0.01]},\n",
       "              verbose=3)"
      ]
     },
     "execution_count": 11,
     "metadata": {},
     "output_type": "execute_result"
    }
   ],
   "source": [
    "m = LogisticRegression()\n",
    "pipe = Pipeline(steps=[('std_slc', StandardScaler()), ('m', m)])\n",
    "pipe.get_params().keys()\n",
    "param_grid = {\n",
    "    'm__solver': ['liblinear', 'saga'],  \n",
    "    'm__penalty': ['l1','l2'],\n",
    "    'm__tol': [1e-4, 1e-3, 1e-2],\n",
    "    'm__C': [ 0.01, 0.1, 1, 10],\n",
    "    # 'm__max_iter': [100, 200, 300],\n",
    "            \n",
    "}\n",
    "clf = BayesSearchCV(pipe, param_grid,n_iter=50,cv=5,verbose=3,n_jobs=-1,refit=True,scoring='f1_macro')\n",
    "clf.fit(x_train, y_train)"
   ]
  },
  {
   "cell_type": "code",
   "execution_count": 12,
   "metadata": {
    "colab": {
     "base_uri": "https://localhost:8080/"
    },
    "id": "Hn3Byz647VIO",
    "outputId": "a88c8ec4-cf27-4a67-ead6-068b58fecdee"
   },
   "outputs": [
    {
     "name": "stdout",
     "output_type": "stream",
     "text": [
      "Pipeline(steps=[('std_slc', StandardScaler()),\n",
      "                ('m', LogisticRegression(C=10, solver='saga', tol=0.001))])\n"
     ]
    }
   ],
   "source": [
    "print(clf.best_estimator_)"
   ]
  },
  {
   "cell_type": "code",
   "execution_count": 13,
   "metadata": {
    "colab": {
     "base_uri": "https://localhost:8080/"
    },
    "id": "wPXFPEVa7bmu",
    "outputId": "69c89a74-6277-4969-9ee4-b886fa5ae3c1"
   },
   "outputs": [
    {
     "name": "stdout",
     "output_type": "stream",
     "text": [
      "              precision    recall  f1-score   support\n",
      "\n",
      "        WAKE       0.58      0.40      0.47       881\n",
      "         REM       0.59      0.39      0.47       598\n",
      "       LIGHT       0.61      0.85      0.71      2070\n",
      "        DEEP       0.57      0.21      0.31       532\n",
      "\n",
      "    accuracy                           0.60      4081\n",
      "   macro avg       0.59      0.46      0.49      4081\n",
      "weighted avg       0.60      0.60      0.57      4081\n",
      "\n"
     ]
    }
   ],
   "source": [
    "y_pred= clf.predict(x_test)\n",
    "print(classification_report(y_test,y_pred,target_names=['WAKE','REM','LIGHT','DEEP']))"
   ]
  },
  {
   "cell_type": "code",
   "execution_count": 14,
   "metadata": {
    "colab": {
     "base_uri": "https://localhost:8080/",
     "height": 449
    },
    "id": "0TLBXFGtC074",
    "outputId": "a198067c-baf8-4d19-c7da-03d5ffccfb5b"
   },
   "outputs": [
    {
     "data": {
      "image/png": "[encoded data removed]",
      "text/plain": [
       "<Figure size 640x480 with 2 Axes>"
      ]
     },
     "metadata": {},
     "output_type": "display_data"
    }
   ],
   "source": [
    "cm = confusion_matrix(y_test, y_pred)\n",
    "disp = ConfusionMatrixDisplay(confusion_matrix=cm,display_labels=['WAKE','REM','LIGHT','DEEP'])\n",
    "disp.plot()\n",
    "plt.show()"
   ]
  }
 ],
 "metadata": {
  "colab": {
   "provenance": []
  },
  "kernelspec": {
   "display_name": "base",
   "language": "python",
   "name": "python3"
  },
  "language_info": {
   "codemirror_mode": {
    "name": "ipython",
    "version": 3
   },
   "file_extension": ".py",
   "mimetype": "text/x-python",
   "name": "python",
   "nbconvert_exporter": "python",
   "pygments_lexer": "ipython3",
   "version": "3.11.5"
  }
 },
 "nbformat": 4,
 "nbformat_minor": 0
}
